{
  "cells": [
    {
      "cell_type": "markdown",
      "id": "bdefbc4e",
      "metadata": {},
      "source": [
        "# Exploring the Recurrence Relations for CLAM Clustering"
      ]
    },
    {
      "cell_type": "markdown",
      "id": "f8c02a03",
      "metadata": {},
      "source": [
        "For a dataset of size `n` and a branching factor of `k`, the number of clusters in the tree `R(n)` is given by the following recurrence relations:\n",
        "\n",
        "$R(1) = 1, R(2) = 1$, the leaf clusters\n",
        "\n",
        "$R(n) = n - 1, \\ for \\ 3 < n <= k + 1$, the parents of leaf clusters\n",
        "\n",
        "$R(1 + i + k*n) = 1 + i*R(n + 1) + (k - i)*R(n), \\ for \\ n > k + 1 \\ and \\ 0 <= i < k$"
      ]
    },
    {
      "cell_type": "code",
      "execution_count": 12,
      "id": "ede72ea9",
      "metadata": {},
      "outputs": [],
      "source": [
        "import pathlib\n",
        "import re\n",
        "\n",
        "import pandas\n",
        "import plotly.express as px\n",
        "from plotly.graph_objs import Figure"
      ]
    },
    {
      "cell_type": "code",
      "execution_count": 13,
      "id": "400455d4",
      "metadata": {},
      "outputs": [],
      "source": [
        "# more imports here\n"
      ]
    },
    {
      "cell_type": "code",
      "execution_count": null,
      "id": "2e04a9ad",
      "metadata": {},
      "outputs": [],
      "source": [
        "# pyright: reportUnknownMemberType=false\n",
        "\n",
        "def load_data(file_path: pathlib.Path) -> pandas.DataFrame:\n",
        "    \"\"\"Load data from a parquet file.\"\"\"\n",
        "    return pandas.read_parquet(file_path)\n",
        "\n",
        "\n",
        "def make_scatter_plots(\n",
        "    memo_df: pandas.DataFrame,\n",
        "    ratios_df: pandas.DataFrame,\n",
        ") -> tuple[Figure, Figure]:\n",
        "    \"\"\"Create scatter plots for memos and ratios using Plotly.\"\"\"\n",
        "    # Melt for easier plotting\n",
        "    memo_df.reset_index(inplace=True)\n",
        "    ratios_df.reset_index(inplace=True)\n",
        "    memo_melt = memo_df.melt(id_vars=[\"index\"], var_name=\"k\", value_name=\"R(n, k)\")\n",
        "    ratios_melt = ratios_df.melt(id_vars=[\"index\"], var_name=\"k\", value_name=\"R(n, k) / n\")\n",
        "\n",
        "    memos_fig = px.scatter(\n",
        "        memo_melt,\n",
        "        x=memo_melt.columns[0],\n",
        "        y=\"R(n, k)\",\n",
        "        color=\"k\",\n",
        "        title=\"Size of tree R(n, k) vs n\",\n",
        "        log_x=True,\n",
        "        log_y=True,\n",
        "        opacity=0.4,\n",
        "        height=600,\n",
        "        width=900,\n",
        "    )\n",
        "    memos_fig.update_layout(xaxis_title=\"n\", yaxis_title=\"R(n, k)\", legend_title=\"k\")\n",
        "\n",
        "    ratios_fig = px.scatter(\n",
        "        ratios_melt,\n",
        "        x=ratios_melt.columns[0],\n",
        "        y=\"R(n, k) / n\",\n",
        "        color=\"k\",\n",
        "        title=\"Ratio R(n, k) / n vs n\",\n",
        "        log_x=True,\n",
        "        opacity=0.4,\n",
        "        height=600,\n",
        "        width=900,\n",
        "    )\n",
        "    ratios_fig.update_layout(xaxis_title=\"n\", yaxis_title=\"R(n, k) / n\", legend_title=\"k\")\n",
        "\n",
        "    return memos_fig, ratios_fig"
      ]
    },
    {
      "cell_type": "code",
      "execution_count": 15,
      "id": "c9b2cc56",
      "metadata": {},
      "outputs": [],
      "source": [
        "# More helper functions here\n"
      ]
    },
    {
      "cell_type": "code",
      "execution_count": 16,
      "id": "69f583e8",
      "metadata": {},
      "outputs": [
        {
          "data": {
            "text/plain": [
              "PosixPath('/home/nishaq/Documents/research/clam/papers/cakes/data/recurrence_relations')"
            ]
          },
          "execution_count": 16,
          "metadata": {},
          "output_type": "execute_result"
        }
      ],
      "source": [
        "# Path for the data files\n",
        "data_dir = pathlib.Path().cwd().parent / \"data\" / \"recurrence_relations\"\n",
        "data_dir"
      ]
    },
    {
      "cell_type": "code",
      "execution_count": null,
      "id": "9c5e0aa9",
      "metadata": {},
      "outputs": [],
      "source": [
        "memo_regex = r\"memos_(?P<max_n>\\d+)_(?P<max_k>\\d+)\\.parquet\\.gzip\"\n",
        "ratios_regex = r\"ratios_(?P<max_n>\\d+)_(?P<max_k>\\d+)\\.parquet\\.gzip\"\n",
        "\n",
        "all_files = list(data_dir.glob(\"*.parquet.gzip\"))\n",
        "if not all_files:\n",
        "    raise ValueError(f\"No parquet files found in {data_dir}\")\n",
        "\n",
        "memos_files: dict[tuple[int, int], str] = {}\n",
        "ratios_files: dict[tuple[int, int], str] = {}\n",
        "\n",
        "for f in all_files:\n",
        "    match_memo = re.match(memo_regex, f.name)\n",
        "    if match_memo:\n",
        "        max_n = int(match_memo.group(\"max_n\"))\n",
        "        max_k = int(match_memo.group(\"max_k\"))\n",
        "        memos_files[(max_n, max_k)] = f.name\n",
        "    match_ratios = re.match(ratios_regex, f.name)\n",
        "    if match_ratios:\n",
        "        max_n = int(match_ratios.group(\"max_n\"))\n",
        "        max_k = int(match_ratios.group(\"max_k\"))\n",
        "        ratios_files[(max_n, max_k)] = f.name\n",
        "\n",
        "matched_keys = set(memos_files.keys()) & set(ratios_files.keys())\n",
        "matched_files = {k: (memos_files[k], ratios_files[k]) for k in matched_keys}\n",
        "\n",
        "print(f\"Found {len(matched_files)} matched memo and ratio files.\")\n",
        "print(\"Matched keys (max_n, max_k):\", matched_files.keys())"
      ]
    },
    {
      "cell_type": "code",
      "execution_count": null,
      "id": "3fe1ffc0",
      "metadata": {},
      "outputs": [],
      "source": [
        "# Let's take a look at the smallest dataset\n",
        "selected_key = (1000000, 32)\n",
        "memo_file, ratios_file = matched_files[selected_key]\n",
        "memo_path = data_dir / memo_file\n",
        "ratios_path = data_dir / ratios_file\n",
        "memo_df = load_data(memo_path)\n",
        "ratios_df = load_data(ratios_path)"
      ]
    },
    {
      "cell_type": "code",
      "execution_count": null,
      "id": "87e8d4bc",
      "metadata": {},
      "outputs": [],
      "source": [
        "memos_fig, ratios_fig = make_scatter_plots(memo_df, ratios_df)"
      ]
    },
    {
      "cell_type": "code",
      "execution_count": null,
      "id": "d89c72a6",
      "metadata": {},
      "outputs": [],
      "source": [
        "ratios_fig.show()"
      ]
    },
    {
      "cell_type": "code",
      "execution_count": null,
      "id": "17c24482",
      "metadata": {},
      "outputs": [],
      "source": []
    }
  ],
  "metadata": {
    "kernelspec": {
      "display_name": "clam",
      "language": "python",
      "name": "python3"
    },
    "language_info": {
      "codemirror_mode": {
        "name": "ipython",
        "version": 3
      },
      "file_extension": ".py",
      "mimetype": "text/x-python",
      "name": "python",
      "nbconvert_exporter": "python",
      "pygments_lexer": "ipython3",
      "version": "3.13.7"
    }
  },
  "nbformat": 4,
  "nbformat_minor": 5
}

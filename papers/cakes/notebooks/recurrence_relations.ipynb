{
 "cells": [
  {
   "cell_type": "markdown",
   "id": "bdefbc4e",
   "metadata": {},
   "source": [
    "# CLAM Clustering: New Algorithm and Recurrence Relations"
   ]
  },
  {
   "cell_type": "markdown",
   "id": "550feb51",
   "metadata": {},
   "source": [
    "Given:\n",
    "\n",
    "- $f$: a distance function\n",
    "- $C$: a Cluster to partition\n",
    "- $criteria$: user-defined continuation criteria\n",
    "\n",
    "The algorithm partitions $C$ into child clusters $L$ and $R$ as follows:\n",
    "\n",
    "1. $S \\leftarrow$ a random sample of $\\Big\\lceil \\sqrt{|C|} \\Big\\rceil$ points from $C$\n",
    "2. $c \\leftarrow$ the geometric median of $S$\n",
    "3. Remove $c$ from $C$ and assign it as the center of $C$.\n",
    "4. $l \\leftarrow$ the point in $C$ farthest from $c$\n",
    "5. $r \\leftarrow$ the point in $C$ farthest from $l$\n",
    "6. $L \\leftarrow$ the points in $C$ closer to $l$ than to $r$\n",
    "7. $R \\leftarrow$ the remaining points in $C$\n",
    "8. If $|L| > 2$ and $criteria(L)$ is true, recursively partition $L$\n",
    "9. If $|R| > 2$ and $criteria(R)$ is true, recursively partition $R$\n",
    "\n",
    "The key difference is that we do not pass the center $c$ down to the child clusters. This also changes the definition of a $leaf$ cluster: a leaf cluster either contains 1 point (which is its own center) or contains 2 points (in which case one is the center and the other, being a singular point, cannot be used to make further children)."
   ]
  },
  {
   "cell_type": "markdown",
   "id": "e1dca9a3",
   "metadata": {},
   "source": [
    "## Recurrence Relations\n",
    "\n",
    "Let $T(n)$ be the number of clusters in the tree produced for a dataset containing $n$ points. The recurrence relation for $T(n)$ is given by:\n",
    "\n",
    "1. Base Case (the leaf clusters): $T(1) = 1$ and $T(2) = 1$.\n",
    "2. Recursive Case (the parent clusters with $n > 2$):\n",
    "    - $T(1 + 2n) = 1 + 2T(n)$ for odd $n$\n",
    "    - $T(2 + 2n) = 1 + T(n + 1) + T(n)$ for even $n$\n",
    "\n",
    "Clearly $T(n) \\leq n$ by the pigeonhole principle. The two are equal when every leaf cluster contains exactly one point (its own center) and $n = 2^h - 1$ where $h$ is the height of the tree. However, when every leaf cluster contains exactly two points, $T(n)$ approaches a lower bound of $\\frac{2n}{3}$ for large $n$ (when $n = 2^{h-1} + 2^h - 1$, because there are $2^{h-1}$ leaf clusters)."
   ]
  },
  {
   "cell_type": "code",
   "execution_count": null,
   "id": "ede72ea9",
   "metadata": {},
   "outputs": [],
   "source": [
    "import pandas\n",
    "import plotly.colors as pc\n",
    "import plotly.graph_objects as go\n",
    "from plotly.subplots import make_subplots\n"
   ]
  },
  {
   "cell_type": "code",
   "execution_count": null,
   "id": "2e04a9ad",
   "metadata": {},
   "outputs": [],
   "source": [
    "# pyright: reportUnknownMemberType=false\n",
    "\n",
    "def compute_memo(min_n: int, max_n: int, b: int = 2) -> pandas.DataFrame:\n",
    "    \"\"\"Compute the memoization table for our recurrence relation.\n",
    "\n",
    "    For a dataset of size n and a branching factor of b, the number of clusters in the tree T(n)\n",
    "    is given by the following recurrence relations:\n",
    "      - T(1) = 1 and T(2) = 1, the leaf clusters\n",
    "      - T(n) = n - 1 for 3 <= n <= b + 1, parent cluster whose children are all leaves\n",
    "      - T(1 + a + b * n) = 1 + a * T(n + 1) + (b - a) * T(n) for n >= b + 2 and 0 <= a < b\n",
    "\n",
    "    Args:\n",
    "        min_n: The minimum value of n to compute. This is to reduce noise in the output.\n",
    "        max_n: The maximum value of n to compute.\n",
    "        b: The branching factor.\n",
    "\n",
    "    Returns:\n",
    "        A pandas DataFrame with columns \"n\", \"T(n)\", and \"T(n)/n\".\n",
    "    \"\"\"\n",
    "    memo = [0] * (max_n + 1)\n",
    "    memo[0] = 1\n",
    "    memo[1] = 1\n",
    "    memo[2] = 1\n",
    "\n",
    "    for n in range(3, b + 2):\n",
    "        memo[n] = n - 1\n",
    "\n",
    "    for n in range(b + 2, max_n + 1):\n",
    "        q = (n - 1) // b\n",
    "        a = (n - 1) % b\n",
    "        memo[n] = 1 + a * memo[q + 1] + (b - a) * memo[q]\n",
    "\n",
    "    memo = memo[1 + min_n:]\n",
    "    ratios = [(n, t, t / n) for n, t in enumerate(memo, start=min_n)]\n",
    "    (n, t, r) = tuple(zip(*ratios))\n",
    "\n",
    "    return pandas.DataFrame({\"n\": n, \"T(n)\": t, \"T(n)/n\": r})\n"
   ]
  },
  {
   "cell_type": "code",
   "execution_count": null,
   "id": "369fe9dd",
   "metadata": {},
   "outputs": [],
   "source": [
    "# pyright: reportUnknownMemberType=false\n",
    "\n",
    "type Data = list[tuple[int, pandas.DataFrame]] | pandas.DataFrame\n",
    "\n",
    "\n",
    "def make_plot(min_n: int, max_n: int, data: Data) -> go.Figure:\n",
    "    \"\"\"Create the plots for the recurrence relations, using the same color for each branching factor and combining the legends.\"\"\"\n",
    "    if isinstance(data, pandas.DataFrame):\n",
    "        data = [(2, data)]\n",
    "        return _make_plot(min_n, max_n, data, False)\n",
    "    return _make_plot(min_n, max_n, data, True)\n",
    "\n",
    "\n",
    "def _make_plot(min_n: int, max_n: int, data: list[tuple[int, pandas.DataFrame]], reveal: bool) -> go.Figure:\n",
    "    \"\"\"Create the plots for the recurrence relations, using the same color for each branching factor and combining the legends.\"\"\"\n",
    "    # Assign a color for each branching factor\n",
    "    bs = [b for b, _ in data]\n",
    "    palette = pc.qualitative.Set1 if len(bs) <= len(pc.qualitative.Set1) else pc.qualitative.Plotly\n",
    "    color_map = {b: palette[i % len(palette)] for i, b in enumerate(bs)}\n",
    "\n",
    "    if reveal:\n",
    "        titles = [\"T(n, b) vs n for various branching factors b\", \"Ratio of clusters to data points: T(n, b)/n vs n for various branching factors b\"]\n",
    "    else:\n",
    "        titles = [\"T(n) vs n\", \"Ratio of clusters to data points: T(n)/n vs n\"]\n",
    "\n",
    "    fig = make_subplots(\n",
    "        rows=1, cols=2,\n",
    "        subplot_titles=titles,\n",
    "        column_widths=[0.33, 0.67],\n",
    "        horizontal_spacing=0.05\n",
    "    )\n",
    "    fig.add_shape(\n",
    "        type=\"line\",\n",
    "        x0=min_n,\n",
    "        y0=min_n,\n",
    "        x1=max_n,\n",
    "        y1=max_n,\n",
    "        line=dict(color=\"Black\", dash=\"dash\"),\n",
    "        row=1, col=1\n",
    "    )\n",
    "    if reveal:\n",
    "        fig.add_trace(\n",
    "            go.Scatter(\n",
    "            x=[min_n, max_n],\n",
    "            y=[1/2, 1/2],\n",
    "            mode=\"lines\",\n",
    "            line=dict(color=\"Black\", dash=\"dash\"),\n",
    "            name=\"Lower Bound\",\n",
    "            legendgroup=\"Lower Bound\"\n",
    "            ),\n",
    "            row=1,\n",
    "            col=2\n",
    "        )\n",
    "    else:\n",
    "        fig.add_trace(\n",
    "            go.Scatter(\n",
    "            x=[min_n, max_n],\n",
    "            y=[2/3, 2/3],\n",
    "            mode=\"lines\",\n",
    "            line=dict(color=\"Black\", dash=\"dash\"),\n",
    "            name=\"Lower Bound\",\n",
    "            legendgroup=\"Lower Bound\"\n",
    "            ),\n",
    "            row=1,\n",
    "            col=2\n",
    "        )\n",
    "\n",
    "    for b, tree_size_df in data:\n",
    "        color = color_map[b]\n",
    "        name = f\"b={b}\" if reveal else \"T(n)\"\n",
    "        # First plot: T(n) vs n\n",
    "        fig.add_trace(\n",
    "            go.Scatter(x=tree_size_df[\"n\"], y=tree_size_df[\"T(n)\"], mode=\"lines\", name=name, legendgroup=name, line=dict(color=color)),\n",
    "            row=1, col=1\n",
    "        )\n",
    "        # Second plot: T(n)/n vs n\n",
    "        fig.add_trace(\n",
    "            go.Scatter(x=tree_size_df[\"n\"], y=tree_size_df[\"T(n)/n\"], mode=\"lines\", name=name, legendgroup=name, line=dict(color=color), showlegend=False),\n",
    "            row=1, col=2\n",
    "        )\n",
    "\n",
    "    fig.update_xaxes(type=\"log\", title_text=\"n (log scale)\", row=1, col=1)\n",
    "    fig.update_yaxes(type=\"log\", title_text=\"T(n) (log scale)\", row=1, col=1)\n",
    "    fig.update_xaxes(type=\"log\", title_text=\"n (log scale)\", row=1, col=2)\n",
    "    fig.update_yaxes(title_text=\"T(n)/n\", row=1, col=2)\n",
    "\n",
    "    # Layout adjustments\n",
    "    fig.update_layout(width=1600, height=600, showlegend=True)\n",
    "    return fig\n"
   ]
  },
  {
   "cell_type": "code",
   "execution_count": null,
   "id": "17c24482",
   "metadata": {},
   "outputs": [],
   "source": [
    "min_n = 10\n",
    "max_n = 100_000\n",
    "\n",
    "tree_size_df = compute_memo(min_n, max_n)\n"
   ]
  },
  {
   "cell_type": "code",
   "execution_count": null,
   "id": "84e3c225",
   "metadata": {},
   "outputs": [],
   "source": [
    "fig = make_plot(min_n, max_n, tree_size_df)\n",
    "fig.show()\n"
   ]
  },
  {
   "cell_type": "markdown",
   "id": "f8c02a03",
   "metadata": {},
   "source": [
    "## Generalization to Arbitrary Branching Factor `b`\n",
    "\n",
    "For a dataset of size `n` and a branching factor of `b`, the number of clusters in the tree `T(n)` is given by the following recurrence relations:\n",
    "\n",
    "1. Base Case (the leaf clusters): $T(1) = 1$ and $T(2) = 1$.\n",
    "2. Just before the base case (the parents of leaf clusters): $T(n) = n - 1$ for $3 \\leq n \\leq b + 1$.\n",
    "3. Recursive Case (the parent clusters with $n > b + 1$):\n",
    "   - $T(1+a+bn) = 1 + aT(n+1) + (b-a)T(n)$ for $n > b+1$ and $0 \\leq a < b$."
   ]
  },
  {
   "cell_type": "code",
   "execution_count": null,
   "id": "af4f8f8e",
   "metadata": {},
   "outputs": [],
   "source": [
    "bs = list(range(2, 11))\n",
    "data = [(b, compute_memo(min_n, max_n, b)) for b in bs]\n"
   ]
  },
  {
   "cell_type": "code",
   "execution_count": null,
   "id": "087ae1d6",
   "metadata": {},
   "outputs": [],
   "source": [
    "fig = make_plot(min_n, max_n, data)\n",
    "fig.show()\n"
   ]
  },
  {
   "cell_type": "code",
   "execution_count": null,
   "id": "0c417c5d",
   "metadata": {},
   "outputs": [],
   "source": [
    "min_n = 10\n",
    "max_n = 100_000\n",
    "bs = list(range(2, 65))\n",
    "data = [(b, compute_memo(min_n, max_n, b)) for b in bs]\n"
   ]
  },
  {
   "cell_type": "code",
   "execution_count": null,
   "id": "454ee1cf",
   "metadata": {},
   "outputs": [],
   "source": [
    "fig = make_plot(min_n, max_n, data)\n",
    "fig.show()\n"
   ]
  },
  {
   "cell_type": "code",
   "execution_count": null,
   "id": "4dcb57bb",
   "metadata": {},
   "outputs": [],
   "source": []
  }
 ],
 "metadata": {
  "kernelspec": {
   "display_name": "clam (3.13.7)",
   "language": "python",
   "name": "python3"
  },
  "language_info": {
   "codemirror_mode": {
    "name": "ipython",
    "version": 3
   },
   "file_extension": ".py",
   "mimetype": "text/x-python",
   "name": "python",
   "nbconvert_exporter": "python",
   "pygments_lexer": "ipython3",
   "version": "3.13.7"
  }
 },
 "nbformat": 4,
 "nbformat_minor": 5
}

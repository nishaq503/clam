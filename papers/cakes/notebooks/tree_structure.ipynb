{
 "cells": [
  {
   "cell_type": "markdown",
   "id": "998d8f51",
   "metadata": {},
   "source": [
    "# Cluster Properties by Depth"
   ]
  },
  {
   "cell_type": "code",
   "execution_count": 1,
   "id": "fec72731",
   "metadata": {},
   "outputs": [],
   "source": [
    "import enum\n",
    "import pathlib\n",
    "\n",
    "import numpy\n",
    "import pandas\n",
    "import plotly.express as px\n",
    "import plotly.graph_objects as go\n",
    "from plotly.subplots import make_subplots"
   ]
  },
  {
   "cell_type": "code",
   "execution_count": 2,
   "id": "f6abece6",
   "metadata": {},
   "outputs": [],
   "source": [
    "EXPECTED_COLUMNS = [\n",
    "    \"center_id\",\n",
    "    \"depth\",\n",
    "    \"cardinality\",\n",
    "    \"radius\",\n",
    "    \"lfd\",\n",
    "    \"radial_sum\",\n",
    "    \"span\",\n",
    "    \"num_children\",\n",
    "]\n",
    "\n",
    "COL_DTYPE = {\n",
    "    \"center_id\": numpy.uint32,\n",
    "    \"depth\": numpy.uint32,\n",
    "    \"cardinality\": numpy.uint32,\n",
    "    \"radius\": numpy.float32,\n",
    "    \"lfd\": numpy.float32,\n",
    "    \"radial_sum\": numpy.float32,\n",
    "    \"span\": numpy.float32,\n",
    "    \"num_children\": numpy.uint32,\n",
    "}\n",
    "\n",
    "\n",
    "class PlottableColumns(enum.StrEnum):\n",
    "    \"\"\"Columns that may be plotted on the y-axis against depth on the x-axis.\"\"\"\n",
    "\n",
    "    Cardinality = \"cardinality\"\n",
    "    Radius = \"radius\"\n",
    "    LFD = \"lfd\"\n",
    "    RadialSum = \"radial_sum\"\n",
    "    Span = \"span\"\n",
    "    NumChildren = \"num_children\"\n",
    "\n",
    "    def should_log_scale(self) -> bool:\n",
    "        \"\"\"Whether the column should be plotted on a log scale.\"\"\"\n",
    "        return self in {\n",
    "            PlottableColumns.Cardinality,\n",
    "            PlottableColumns.Radius,\n",
    "            PlottableColumns.RadialSum,\n",
    "            PlottableColumns.Span,\n",
    "        }\n",
    "\n",
    "\n",
    "class PartitionStrategy(enum.StrEnum):\n",
    "    \"\"\"Partition strategies for clustering.\"\"\"\n",
    "    # Branching factor\n",
    "    Fixed2 = \"bf(fixed(2))\"\n",
    "    Logarithmic = \"bf(logarithmic)\"\n",
    "    Adaptive = \"bf(adaptive(128))\"\n",
    "    # Span reduction factor\n",
    "    Sqrt2 = \"srf(sqrt2)\"\n",
    "    Two = \"srf(two)\"\n",
    "    E = \"srf(e)\"\n",
    "    Pi = \"srf(pi)\"\n",
    "    Phi = \"srf(phi)\"\n",
    "\n",
    "\n",
    "class SearchAlgorithm(enum.StrEnum):\n",
    "    \"\"\"Search algorithms for clustering.\"\"\"\n",
    "    # Depth-first Sieve\n",
    "    KnnDfs10 = \"KnnDfs(k=10)\"\n",
    "    KnnDfs100 = \"KnnDfs(k=100)\"\n",
    "    # Breadth-first Sieve\n",
    "    KnnBfs10 = \"KnnBfs(k=10)\"\n",
    "    KnnBfs100 = \"KnnBfs(k=100)\"\n",
    "\n",
    "\n",
    "class ReportFilePostfixes(enum.StrEnum):\n",
    "    \"\"\"Postfixes for report files.\"\"\"\n",
    "    Tree = \"tree.csv\"\n",
    "    Performance = \"performance.json\"\n",
    "    Neighbors = \"neighbors.npy\"\n",
    "    Distances = \"distances.npy\"\n",
    "\n",
    "\n",
    "class Datasets(enum.StrEnum):\n",
    "    \"\"\"Datasets from ann-benchmarks.\"\"\"\n",
    "    FashionMnist = \"fashion-mnist\"\n",
    "    Mnist = \"mnist\"\n",
    "    Sift = \"sift\"\n",
    "    Gist = \"gist\"\n",
    "    Glove25 = \"glove-25\"\n",
    "    Glove50 = \"glove-50\"\n",
    "    Glove100 = \"glove-100\"\n",
    "    Glove200 = \"glove-200\"\n",
    "    DeepImage = \"deep-image\"\n",
    "    LastFM = \"lastfm\""
   ]
  },
  {
   "cell_type": "code",
   "execution_count": 3,
   "id": "e64d3cf8",
   "metadata": {},
   "outputs": [
    {
     "data": {
      "text/plain": [
       "PosixPath('/home/nishaq/Documents/research/data/ann_data/cakes-benchmarks')"
      ]
     },
     "execution_count": 3,
     "metadata": {},
     "output_type": "execute_result"
    }
   ],
   "source": [
    "benchmarks_dir = pathlib.Path.cwd().parents[3] / \"data\" / \"ann_data\" / \"cakes-benchmarks\"\n",
    "assert benchmarks_dir.exists()\n",
    "\n",
    "for d in Datasets:\n",
    "    data_dir = benchmarks_dir / d\n",
    "    assert data_dir.exists(), f\"Data directory {data_dir} does not exist.\"\n",
    "\n",
    "benchmarks_dir"
   ]
  },
  {
   "cell_type": "code",
   "execution_count": 4,
   "id": "a2343ca4",
   "metadata": {},
   "outputs": [],
   "source": [
    "def plot_for_data(d: Datasets, p: PlottableColumns) -> go.Figure:\n",
    "    \"\"\"Create a subplot for each partition strategy.\"\"\"\n",
    "    fig = make_subplots(\n",
    "        rows=2, cols=4,\n",
    "        subplot_titles=list(PartitionStrategy),\n",
    "        horizontal_spacing=0.025,\n",
    "        vertical_spacing=0.1,\n",
    "    )\n",
    "\n",
    "    for i, ps in enumerate(PartitionStrategy):\n",
    "        col = i // 2 + 1\n",
    "        row = i % 2 + 1\n",
    "\n",
    "        tree_file = data_dir / f\"{ps}-{ReportFilePostfixes.Tree}\"\n",
    "        assert tree_file.exists(), f\"Tree file {tree_file} does not exist.\"\n",
    "        tree_df = pandas.read_csv(tree_file, dtype=COL_DTYPE)\n",
    "        tree_df = tree_df[tree_df[\"num_children\"] > 0]  # Ignore leaves\n",
    "\n",
    "        prop_vs_depth = tree_df[[\"depth\", p]].groupby(\"depth\").agg(\n",
    "            min=(p.value, \"min\"),\n",
    "            p5=(p.value, lambda x: x.quantile(0.05)),\n",
    "            p25=(p.value, lambda x: x.quantile(0.25)),\n",
    "            median=(p.value, \"median\"),\n",
    "            p75=(p.value, lambda x: x.quantile(0.75)),\n",
    "            p95=(p.value, lambda x: x.quantile(0.95)),\n",
    "            max=(p.value, \"max\"),\n",
    "        ).reset_index()\n",
    "\n",
    "        color_map = px.colors.qualitative.Plotly\n",
    "\n",
    "        pvd_melted = prop_vs_depth.melt(id_vars=[\"depth\"], var_name=\"stat\", value_name=p.value)\n",
    "        for stat in pvd_melted[\"stat\"].unique():\n",
    "            stat_df = pvd_melted[pvd_melted[\"stat\"] == stat]\n",
    "            fig.add_trace(\n",
    "                go.Scatter(\n",
    "                    x=stat_df[\"depth\"],\n",
    "                    y=stat_df[p.value],\n",
    "                    mode=\"lines\",\n",
    "                    name=stat,\n",
    "                    showlegend=(i == 0),\n",
    "                    line=dict(\n",
    "                        color=color_map[[\"min\", \"p5\", \"p25\", \"median\", \"p75\", \"p95\", \"max\"].index(stat)],\n",
    "                        dash=\"solid\" if stat in {\"median\"} else \"dash\" if stat in {\"p25\", \"p75\"} else \"dot\",\n",
    "                        width=2 if stat in {\"median\"} else 1.25 if stat in {\"p25\", \"p75\"} else 0.75,\n",
    "                    ),\n",
    "                ),\n",
    "                row=row,\n",
    "                col=col,\n",
    "            )\n",
    "\n",
    "        del tree_df, prop_vs_depth, pvd_melted  # Free memory\n",
    "\n",
    "    if p.should_log_scale():\n",
    "        fig.update_yaxes(type=\"log\")\n",
    "\n",
    "    fig.update_layout(title=f\"{d}: {p} vs Depth\", height=800, width=2400)\n",
    "    return fig"
   ]
  },
  {
   "cell_type": "code",
   "execution_count": 5,
   "id": "bd74ca1b",
   "metadata": {},
   "outputs": [],
   "source": [
    "d = Datasets.FashionMnist"
   ]
  },
  {
   "cell_type": "code",
   "execution_count": 6,
   "id": "019c64d8",
   "metadata": {},
   "outputs": [
    {
     "data": {
      "application/vnd.plotly.v1+json": {
       "config": {
        "plotlyServerURL": "https://plot.ly"
       },
       "data": [
        {
         "line": {
          "color": "#636EFA",
          "dash": "dot",
          "width": 0.75
         },
         "mode": "lines",
         "name": "min",
         "showlegend": true,
         "type": "scatter",
         "x": {
          "bdata": "AAAAAAEAAAACAAAAAwAAAAQAAAAFAAAABgAAAAcAAAAIAAAACQAAAAoAAAALAAAADAAAAA0AAAAOAAAADwAAABAAAAARAAAAEgAAABMAAAAUAAAAFQAAABYAAAAXAAAAGAAAABkAAAAaAAAAGwAAABwAAAAdAAAAHgAAAB8AAAAgAAAAIQAAACIAAAAjAAAAJAAAACUAAAAmAAAAJwAAACgAAAApAAAAKgAAACsAAAAsAAAALQAAAC4AAAAvAAAAMAAAADEAAAAyAAAAMwAAADQAAAA1AAAANgAAADcAAAA4AAAAOQAAADoAAAA7AAAAPAAAAD0AAAA+AAAAPwAAAEAAAABBAAAAQgAAAEMAAABEAAAARQAAAEYAAABHAAAASAAAAEkAAABKAAAASwAAAEwAAABNAAAATgAAAE8AAABQAAAAUQAAAFIAAABTAAAAVAAAAFUAAABWAAAAVwAAAFgAAABZAAAAWgAAAFsAAABcAAAAXQAAAF4AAABfAAAAYAAAAGEAAABiAAAAYwAAAGQAAABlAAAAZgAAAGcAAABoAAAAaQAAAA==",
          "dtype": "u4"
         },
         "xaxis": "x",
         "y": {
          "bdata": "AAAAQKve+T4AAACgbs1cPwAAAODm84M/AAAAIASBlj8AAACgTDmWPwAAAAC9ZZM/AAAAABF0oj8AAAAgBHSaPwAAAOC8nZU/AAAA4KiKlz8AAABA0JuXPwAAAODgPpY/AAAAAOxZjz8AAACgrSF+PwAAAGA3vHs/AAAAoA5MgT8AAAAgM3V2PwAAAEA+6mg/AAAAYOeEaj8AAADAJ5JsPwAAAMB9uWo/AAAAYGV0fD8AAACgR1x4PwAAAMAw6WI/AAAAAD3Raz8AAACAX+5rPwAAAMBlPls/AAAAYIm7Yj8AAADA1K5vPwAAAABHkWc/AAAAoExubD8AAABAj9tiPwAAAMBumWE/AAAA4GmdZz8AAACAerRhPwAAAAA2MV8/AAAAAFPLWD8AAACArXlaPwAAACD5iGw/AAAAYJVTYj8AAACAgLdfPwAAAGBkwFk/AAAAgFryQT8AAAAgm7FOPwAAAEDM0Vo/AAAAwHg0aD8AAADg2jFnPwAAAGC2g3U/AAAA4G6Zez8AAADA/jR2PwAAAOCM2XY/AAAAYPSogD8AAACAs41+PwAAAOADloI/AAAAYKx3dj8AAAAg9faJPwAAAIAMsIg/AAAA4KpSgz8AAAAgKAiGPwAAACBiyIo/AAAAII2jhT8AAABgRSiIPwAAAGDt0I4/AAAAQAA/fD8AAABAmWx6PwAAAEDAXIU/AAAAwEdEcj8AAABAX3x+PwAAAGBeNnY/AAAA4PozYz8AAACA9BFWPwAAAOAzQ3Q/AAAAAE+Ncj8AAAAA/6hyPwAAAKDXSms/AAAAIBUMbj8AAACA0xJkPwAAAKCQl2E/AAAAoJLaYj8AAAAgDORsPwAAAEBWXXY/AAAAYMk1gD8AAAAgihR1PwAAACBhVHg/AAAAQLLQeD8AAACAgJlzPwAAAGDUrnQ/AAAAwLWegj8AAADAp+Z8PwAAAKBEwo0/AAAAYDMqiD8AAADAh0uCPwAAAGCmPIs/AAAAYPfjkD8AAACgSKSLPwAAAMCmV4c/AAAAICmCgj8AAADgwf+SPwAAAICBtY0/AAAAYB4kkD8AAACAPvGPPwAAAMCjW4s/AAAAIMV6kj8AAABAylubPwAAAIDLXrs/AAAAYDmbxz8=",
          "dtype": "f8"
         },
         "yaxis": "y"
        },
        {
         "line": {
          "color": "#EF553B",
          "dash": "dot",
          "width": 0.75
         },
         "mode": "lines",
         "name": "p5",
         "showlegend": true,
         "type": "scatter",
         "x": {
          "bdata": "AAAAAAEAAAACAAAAAwAAAAQAAAAFAAAABgAAAAcAAAAIAAAACQAAAAoAAAALAAAADAAAAA0AAAAOAAAADwAAABAAAAARAAAAEgAAABMAAAAUAAAAFQAAABYAAAAXAAAAGAAAABkAAAAaAAAAGwAAABwAAAAdAAAAHgAAAB8AAAAgAAAAIQAAACIAAAAjAAAAJAAAACUAAAAmAAAAJwAAACgAAAApAAAAKgAAACsAAAAsAAAALQAAAC4AAAAvAAAAMAAAADEAAAAyAAAAMwAAADQAAAA1AAAANgAAADcAAAA4AAAAOQAAADoAAAA7AAAAPAAAAD0AAAA+AAAAPwAAAEAAAABBAAAAQgAAAEMAAABEAAAARQAAAEYAAABHAAAASAAAAEkAAABKAAAASwAAAEwAAABNAAAATgAAAE8AAABQAAAAUQAAAFIAAABTAAAAVAAAAFUAAABWAAAAVwAAAFgAAABZAAAAWgAAAFsAAABcAAAAXQAAAF4AAABfAAAAYAAAAGEAAABiAAAAYwAAAGQAAABlAAAAZgAAAGcAAABoAAAAaQAAAA==",
          "dtype": "u4"
         },
         "xaxis": "x",
         "y": {
          "bdata": "AAAAQKve+T7NzMycmJ5pP87MzBy9h5w/AAAA4u3W2D8AAADAoMTlPwAAAAAAAPA/zczMBBwi5j8AAADg+XzpPwAAAEAp4ug/zczMjKJP5z8AAABAA7jiPzMzM7MsiOU/AAAAQAO44j8AAABAA7jiPwAAAID5j9o/AAAAIFk01z/NzMyUzovXP5qZmVHDNtU/AAAAQHia1D8AAADAJHHTPwAAAECO1dA/AAAAgHQ3zj8AAADgjsvNPwAAAKDYX88/AAAA0Hpgzj8AAADIxsrLP2ZmZoYxdNA/AAAA4Fp3zD8AAADgWnfMP83MzPwbrcw/MzMz8+CczT8AAADAFrzPP5qZmSELd80/m5mZma0Uzz8AAADgWnfMP5uZmcnqJ84/zczMFJ+wzj8AAAAA8/POPwAAAGATnM0/Z2ZmBth3yj80MzNj2kXMPwEAADiQs9A/AAAA0CdIzj8AAACQ/5TLP87MzAwCAss/AAAAQIsjyT8AAAAAmKjIPwAAACCIxck/zczMxFcYzD/PzMysnYrLPwAAAFBc5ck/AAAAYDfOyz8zMzOTm6fLPzMzM3O2cc0/AAAA4Fp3zD8AAACAWtnOPwAAAECO1dA/AAAAIANd0T8AAACgLjHUP2hmZgajCtQ/AAAAQHia1D8AAABAeJrUPwAAACBZNNc/AAAAQHia1D8AAABAeJrUPwAAAMCc3NM/mpmZgRzs0j+amZnZ7MjTPwAAABj9jNI/AAAAwL/o0j8BAADwoIDQPzQzM8NkL88/AAAA4Fp3zD80MzPbrFfMP2dmZibt5sg/NDMzM7rwyD8AAADgW47HPzQzM7O/7sc/zczMnCHOxz8AAAAAmKjIPwAAAJAIBMk/NDMz41RYxz/OzMw0acDJP5qZmbEKcMY/AAAAQBrAxT9nZmbGDJrEPzQzMzOBEso/AAAAeIQlyD8AAADwTGbFPwAAALAYJcc/NDMzg16DyD80MzNzf53EP5qZmWkh4cA/AAAAwILevD/NzMx0dEe8PwAAAKg5V7o/Z2Zmpi5QvD8AAABA6o+9P2dmZjaKdLw/mpmZuWdzuj+amZkZwtixP5qZmYkZK5I/zczM7Mg3qz9nZmbmG1upP5qZmVnFrb0/zczMdA8VyT8=",
          "dtype": "f8"
         },
         "yaxis": "y"
        },
        {
         "line": {
          "color": "#00CC96",
          "dash": "dash",
          "width": 1.25
         },
         "mode": "lines",
         "name": "p25",
         "showlegend": true,
         "type": "scatter",
         "x": {
          "bdata": "AAAAAAEAAAACAAAAAwAAAAQAAAAFAAAABgAAAAcAAAAIAAAACQAAAAoAAAALAAAADAAAAA0AAAAOAAAADwAAABAAAAARAAAAEgAAABMAAAAUAAAAFQAAABYAAAAXAAAAGAAAABkAAAAaAAAAGwAAABwAAAAdAAAAHgAAAB8AAAAgAAAAIQAAACIAAAAjAAAAJAAAACUAAAAmAAAAJwAAACgAAAApAAAAKgAAACsAAAAsAAAALQAAAC4AAAAvAAAAMAAAADEAAAAyAAAAMwAAADQAAAA1AAAANgAAADcAAAA4AAAAOQAAADoAAAA7AAAAPAAAAD0AAAA+AAAAPwAAAEAAAABBAAAAQgAAAEMAAABEAAAARQAAAEYAAABHAAAASAAAAEkAAABKAAAASwAAAEwAAABNAAAATgAAAE8AAABQAAAAUQAAAFIAAABTAAAAVAAAAFUAAABWAAAAVwAAAFgAAABZAAAAWgAAAFsAAABcAAAAXQAAAF4AAABfAAAAYAAAAGEAAABiAAAAYwAAAGQAAABlAAAAZgAAAGcAAABoAAAAaQAAAA==",
          "dtype": "u4"
         },
         "xaxis": "x",
         "y": {
          "bdata": "AAAAQKve+T4AAAB0h5+BPwAAAPi4r7k/AAAAuKkt+D8AAABAlz/7PwAAAMC1MPU/AAAAICCu9z8AAAD4Xir0PwAAACCeJvU/AAAAwPIV9T8AAABg647zPwAAAKBjNfQ/AAAAYOuO8z8AAAAAAADwPwAAAAAAAPA/AAAAAAAA8D8AAAA480HsPwAAAHh3ieg/AAAA4DiV5z8AAADgOJXnPwAAAODDsuU/AAAAoHtl5T8AAACgxbvjPwAAAKChPuY/AAAAgBQs5D8AAACQsuviPwAAAICKO+Q/AAAA4NQY5D8AAABgAjflPwAAAHC+weM/AAAAKAsw5T8AAAAA0N3kPwAAAIj89+Y/AAAA4DiV5z8AAADgOJXnPwAAAMBCf+g/AAAAQCni6D8AAADgOJXnPwAAAMgoX+Y/AAAAYAI35T8AAADgw7LlPwAAANAD+ec/AAAAIDDV6D8AAADorXbpPwAAAOA4lec/AAAA4DiV5z8AAAAAK+vmPwAAAIAAauY/AAAAAMGZ5j8AAADgOJXnPwAAAODDsuU/AAAAgJxK5j8AAADgw7LlPwAAAIAAauY/AAAAgABq5j8AAADgOJXnPwAAAOA4lec/AAAAYKlJ6D8AAAAA2tXpPwAAAADa1ek/AAAAWKTT6D8AAABAKeLoPwAAAOitduk/AAAAGNg96D8AAAAA2tXpPwAAAKCm++s/AAAA6MOs5z8AAAAA2tXpPwAAAOA4lec/AAAA4DiV5z8AAADg0I3mPwAAAOA4lec/AAAA4MOy5T8AAABAA7jiPwAAAEADuOI/AAAAQAO44j8AAABAA7jiPwAAAEADuOI/AAAAQAO44j8AAABAA7jiPwAAAEADuOI/AAAAQAO44j8AAABAA7jiPwAAAEADuOI/AAAAQAO44j8AAABAA7jiPwAAAEADuOI/AAAAQAO44j8AAABAA7jiPwAAAEADuOI/AAAAQAO44j8AAABAA7jiPwAAAEADuOI/AAAAoDsR3z8AAACA+Y/aPwAAABDCD9c/AAAAQHia1D8AAAAgH2fVPwAAAEB4mtQ/AAAA4Gmi2T8AAACwspfhPwAAAIBqZtc/AAAAQHia1D8AAABQYgzFPwAAAGDWdMM/AAAAyGf8zj8=",
          "dtype": "f8"
         },
         "yaxis": "y"
        },
        {
         "line": {
          "color": "#AB63FA",
          "dash": "solid",
          "width": 2
         },
         "mode": "lines",
         "name": "median",
         "showlegend": true,
         "type": "scatter",
         "x": {
          "bdata": "AAAAAAEAAAACAAAAAwAAAAQAAAAFAAAABgAAAAcAAAAIAAAACQAAAAoAAAALAAAADAAAAA0AAAAOAAAADwAAABAAAAARAAAAEgAAABMAAAAUAAAAFQAAABYAAAAXAAAAGAAAABkAAAAaAAAAGwAAABwAAAAdAAAAHgAAAB8AAAAgAAAAIQAAACIAAAAjAAAAJAAAACUAAAAmAAAAJwAAACgAAAApAAAAKgAAACsAAAAsAAAALQAAAC4AAAAvAAAAMAAAADEAAAAyAAAAMwAAADQAAAA1AAAANgAAADcAAAA4AAAAOQAAADoAAAA7AAAAPAAAAD0AAAA+AAAAPwAAAEAAAABBAAAAQgAAAEMAAABEAAAARQAAAEYAAABHAAAASAAAAEkAAABKAAAASwAAAEwAAABNAAAATgAAAE8AAABQAAAAUQAAAFIAAABTAAAAVAAAAFUAAABWAAAAVwAAAFgAAABZAAAAWgAAAFsAAABcAAAAXQAAAF4AAABfAAAAYAAAAGEAAABiAAAAYwAAAGQAAABlAAAAZgAAAGcAAABoAAAAaQAAAA==",
          "dtype": "u4"
         },
         "xaxis": "x",
         "y": {
          "bdata": "AAAAQKve+T4AAAAAYaWPPwAAAABFQsU/AAAAoKqD+T8AAAAAdjsBQAAAAKAkRPw/AAAAYF6q+j8AAABAE/r7PwAAAGCcyvs/AAAAYJzK+z8AAACAqOv6PwAAAKABXPk/AAAAoAFc+T8AAACgAVz5PwAAAKABXPk/AAAAoAFc+T8AAADgTsT3PwAAACCeJvU/AAAAIJ4m9T8AAAAgnib1PwAAACCeJvU/AAAAIJ4m9T8AAACgYzX0PwAAACCeJvU/AAAAYOuO8z8AAACgYzX0PwAAACCeJvU/AAAAwNGh9D8AAAAgnib1PwAAACCeJvU/AAAAIJ4m9T8AAAAgnib1PwAAACCeJvU/AAAAYP6j9j8AAABg/qP2PwAAAKABXPk/AAAAoAFc+T8AAACgAVz5PwAAAKABXPk/AAAA4E7E9z8AAABAYg72PwAAAKABXPk/AAAAoAFc+T8AAACgAVz5PwAAAKABXPk/AAAAwFaD+D8AAACgAVz5PwAAAADVWfc/AAAAwEt2+D8AAABg/qP2PwAAAIB2dfY/AAAAIJ4m9T8AAAAgnib1PwAAACCeJvU/AAAAYP6j9j8AAAAgnib1PwAAAGD+o/Y/AAAAYP6j9j8AAABg/qP2PwAAACBD+vY/AAAAANVZ9z8AAABAYg72PwAAAADVWfc/AAAAYP6j9j8AAAAA1Vn3PwAAAID3Ivg/AAAAANVZ9z8AAACgAVz5PwAAAOBOxPc/AAAAYP6j9j8AAAAgnib1PwAAAGD+o/Y/AAAAIJ4m9T8AAAAgnib1PwAAACCeJvU/AAAAIJ4m9T8AAABg647zPwAAACCeJvU/AAAAINZJ9D8AAAAgnib1PwAAACCeJvU/AAAAIJ4m9T8AAAAAAADwPwAAAAAAAPA/AAAAgN9S8T8AAAAAAADwPwAAAAAAAPA/AAAAQAO48j8AAACgYzX0PwAAACCeJvU/AAAAQAO48j8AAAAgnib1PwAAAAAAAPA/AAAAAAAA8D8AAAAAAADwPwAAAADa1ek/AAAAoKb76z8AAAAA2tXpPwAAAOA4lec/AAAAAAAA8D8AAAAgnib1PwAAAADa1ek/AAAAoMW74z8AAACA+Y/aPwAAAEADuOI/AAAAIMsu0z8=",
          "dtype": "f8"
         },
         "yaxis": "y"
        },
        {
         "line": {
          "color": "#FFA15A",
          "dash": "dash",
          "width": 1.25
         },
         "mode": "lines",
         "name": "p75",
         "showlegend": true,
         "type": "scatter",
         "x": {
          "bdata": "AAAAAAEAAAACAAAAAwAAAAQAAAAFAAAABgAAAAcAAAAIAAAACQAAAAoAAAALAAAADAAAAA0AAAAOAAAADwAAABAAAAARAAAAEgAAABMAAAAUAAAAFQAAABYAAAAXAAAAGAAAABkAAAAaAAAAGwAAABwAAAAdAAAAHgAAAB8AAAAgAAAAIQAAACIAAAAjAAAAJAAAACUAAAAmAAAAJwAAACgAAAApAAAAKgAAACsAAAAsAAAALQAAAC4AAAAvAAAAMAAAADEAAAAyAAAAMwAAADQAAAA1AAAANgAAADcAAAA4AAAAOQAAADoAAAA7AAAAPAAAAD0AAAA+AAAAPwAAAEAAAABBAAAAQgAAAEMAAABEAAAARQAAAEYAAABHAAAASAAAAEkAAABKAAAASwAAAEwAAABNAAAATgAAAE8AAABQAAAAUQAAAFIAAABTAAAAVAAAAFUAAABWAAAAVwAAAFgAAABZAAAAWgAAAFsAAABcAAAAXQAAAF4AAABfAAAAYAAAAGEAAABiAAAAYwAAAGQAAABlAAAAZgAAAGcAAABoAAAAaQAAAA==",
          "dtype": "u4"
         },
         "xaxis": "x",
         "y": {
          "bdata": "AAAAQKve+T4AAABQndWWPwAAAOCuCdM/AAAAiG9x/z8AAACgpkIIQAAAAOB0GQVAAAAAmGT0AUAAAAAIcEkDQAAAAABPkwJAAAAAQKk9AkAAAADQxk4BQAAAAMBWgwBAAAAAAAAAAEAAAAAAAAAAQAAAAAAAAABAAAAAYNP9/T8AAABg0/39PwAAAEAANfs/AAAAQAA1+z8AAACgAVz5PwAAAJBFcPo/AAAAoAFc+T8AAACgAVz5PwAAAOBh2fo/AAAAoAFc+T8AAABAADX7PwAAAKABXPk/AAAAoAFc+T8AAACgAVz5PwAAAKABXPk/AAAAAO3q/D8AAAAA7er8PwAAAADt6vw/AAAAAAAAAEAAAAAA7er8PwAAAAAAAABAAAAAAAAAAEAAAAAAAAAAQAAAAAAAAABAAAAAwOTQ/j8AAAAA7er8PwAAAAAAAABAAAAAAAAAAEAAAAAAAAAAQAAAAAAAAABAAAAAAAAAAEAAAAAAAAAAQAAAAAAAAABAAAAAAAAAAEAAAAAAAAAAQAAAAADt6vw/AAAAAO3q/D8AAAAA7er8PwAAAGDT/f0/AAAAAO3q/D8AAAAA7er8PwAAAIAJ3v8/AAAAYNP9/T8AAAAA7er8PwAAAAAAAABAAAAAAAAAAEAAAAAAAAAAQAAAAMDk0P4/AAAAAO3q/D8AAABg0/39PwAAAAAAAABAAAAAYNP9/T8AAAAA7er8PwAAAADt6vw/AAAAAO3q/D8AAABgnMr7PwAAAGDT/f0/AAAAoAFc+T8AAACgAVz5PwAAAKABXPk/AAAA4GHZ+j8AAACgAVz5PwAAAKABXPk/AAAAoAFc+T8AAACgAVz5PwAAAMCxGvo/AAAAoAFc+T8AAACgAVz5PwAAAKABXPk/AAAAoAFc+T8AAACgAVz5PwAAAKABXPk/AAAAoAFc+T8AAACgAVz5PwAAAKABXPk/AAAAoAFc+T8AAACgAVz5PwAAAKABXPk/AAAAoAFc+T8AAACgAVz5PwAAAKABXPk/AAAAoAFc+T8AAACgAVz5PwAAADDaefU/AAAAoAFc+T8AAADAsRr6PwAAAKABXPk/AAAAIJ4m9T8AAABos3bzPwAAAAAAAPA/AAAATGLf1j8=",
          "dtype": "f8"
         },
         "yaxis": "y"
        },
        {
         "line": {
          "color": "#19D3F3",
          "dash": "dot",
          "width": 0.75
         },
         "mode": "lines",
         "name": "p95",
         "showlegend": true,
         "type": "scatter",
         "x": {
          "bdata": "AAAAAAEAAAACAAAAAwAAAAQAAAAFAAAABgAAAAcAAAAIAAAACQAAAAoAAAALAAAADAAAAA0AAAAOAAAADwAAABAAAAARAAAAEgAAABMAAAAUAAAAFQAAABYAAAAXAAAAGAAAABkAAAAaAAAAGwAAABwAAAAdAAAAHgAAAB8AAAAgAAAAIQAAACIAAAAjAAAAJAAAACUAAAAmAAAAJwAAACgAAAApAAAAKgAAACsAAAAsAAAALQAAAC4AAAAvAAAAMAAAADEAAAAyAAAAMwAAADQAAAA1AAAANgAAADcAAAA4AAAAOQAAADoAAAA7AAAAPAAAAD0AAAA+AAAAPwAAAEAAAABBAAAAQgAAAEMAAABEAAAARQAAAEYAAABHAAAASAAAAEkAAABKAAAASwAAAEwAAABNAAAATgAAAE8AAABQAAAAUQAAAFIAAABTAAAAVAAAAFUAAABWAAAAVwAAAFgAAABZAAAAWgAAAFsAAABcAAAAXQAAAF4AAABfAAAAYAAAAGEAAABiAAAAYwAAAGQAAABlAAAAZgAAAGcAAABoAAAAaQAAAA==",
          "dtype": "u4"
         },
         "xaxis": "x",
         "y": {
          "bdata": "AAAAQKve+T5mZmb2jXGcP2VmZn764OA/AAAAaEpCBUAAAAAwUbMLQAAAACDtKAlAAAAAKFK9DUAAAADwGXILQAAAACC5XwpAMzMz81t8CkAAAAAAAAAIQMzMzCyASwdAlpmZIc7OBkAAAACAdnUGQAAAAIB2dQZAAAAA4ACuBEAAAADgAK4EQCozM0u3pwRAAAAA4ACuBEAAAADgAK4EQAAAAOAArgRAAAAAAE+TAkAAAADgAK4EQAAAAOAArgRAAAAA4ACuBEAAAADgAK4EQAAAAOAArgRAAAAA4ACuBEAAAADgAK4EQAAAAOAArgRAAAAA4ACuBEAAAADgAK4EQOr//ycj5wVAAAAA4ACuBEAAAADgAK4EQAAAAOAArgRAtczMHNcVBUAAAACAdnUGQAAAAEBO5QVAAAAAgHZ1BkD8///fxmQFQMLMzKS4pQVAAAAA4ACuBEAAAADgAK4EQCMzM3P6vQRAAAAAgHZ1BkAAAACAT+oEQAAAAOAArgRAAAAAgHZ1BkAAAADgAK4EQAAAAOAArgRAAAAA4ACuBEAAAADgAK4EQMLMzCxsuAVAAAAAIICaBUAAAACAdnUGQAAAAIB2dQZAAAAAgHZ1BkAAAACAdnUGQAAAACCAmgVAAAAAgHZ1BkAAAACAdnUGQAAAAIB2dQZAAAAA4ACuBEAAAADgAK4EQAAAACCAmgVAAAAA4ACuBEAAAADgAK4EQAAAAOAArgRAAAAA4ACuBEAAAADgAK4EQAAAAOAArgRAAAAA4ACuBEAAAADgAK4EQAAAAOAArgRAAAAA4ACuBEAAAADgAK4EQAAAAOAArgRAAAAA4ACuBEAAAAAAT5MCQAAAAOAArgRAAAAAAE+TAkAlMzOTY6ECQAAAAOAArgRAAAAAAE+TAkAAAAAAT5MCQAAAAABPkwJAAAAA4ACuBEAAAAAAT5MCQAAAAABPkwJAAAAA4ACuBECMmZlZyWoDQJ2ZmUkieARAAAAAAE+TAkBjZmb+Ml0EQAAAAOAArgRAAAAAAE+TAkAAAAAAT5MCQAAAAAAAAABAZGZmxs3QAEAAAAAAAAAAQJqZmSnY2wFAy8zMzF7E/j/8///vluX8P5mZmRnOfPc/mZmZdQ7T2T8=",
          "dtype": "f8"
         },
         "yaxis": "y"
        },
        {
         "line": {
          "color": "#FF6692",
          "dash": "dot",
          "width": 0.75
         },
         "mode": "lines",
         "name": "max",
         "showlegend": true,
         "type": "scatter",
         "x": {
          "bdata": "AAAAAAEAAAACAAAAAwAAAAQAAAAFAAAABgAAAAcAAAAIAAAACQAAAAoAAAALAAAADAAAAA0AAAAOAAAADwAAABAAAAARAAAAEgAAABMAAAAUAAAAFQAAABYAAAAXAAAAGAAAABkAAAAaAAAAGwAAABwAAAAdAAAAHgAAAB8AAAAgAAAAIQAAACIAAAAjAAAAJAAAACUAAAAmAAAAJwAAACgAAAApAAAAKgAAACsAAAAsAAAALQAAAC4AAAAvAAAAMAAAADEAAAAyAAAAMwAAADQAAAA1AAAANgAAADcAAAA4AAAAOQAAADoAAAA7AAAAPAAAAD0AAAA+AAAAPwAAAEAAAABBAAAAQgAAAEMAAABEAAAARQAAAEYAAABHAAAASAAAAEkAAABKAAAASwAAAEwAAABNAAAATgAAAE8AAABQAAAAUQAAAFIAAABTAAAAVAAAAFUAAABWAAAAVwAAAFgAAABZAAAAWgAAAFsAAABcAAAAXQAAAF4AAABfAAAAYAAAAGEAAABiAAAAYwAAAGQAAABlAAAAZgAAAGcAAABoAAAAaQAAAA==",
          "dtype": "u4"
         },
         "xaxis": "x",
         "y": {
          "bdata": "AAAAQKve+T4AAAAgitidPwAAAEADuOI/AAAAoLLIBkAAAABgU9MMQAAAACDldBBAAAAAwF8mEEAAAADAoIgRQAAAAMBKPRFAAAAAAAAAFEAAAABAuzoTQAAAAEABBRNAAAAAoOcWFEAAAACAdnUOQAAAAOAArhBAAAAAgKdJEUAAAACgIBgSQAAAAEB11hFAAAAAIOY3EkAAAABAddYRQAAAAMDg/RBAAAAAwOD9EEAAAACAp0kRQAAAAOCPWRBAAAAA4I9ZEEAAAADgAK4QQAAAAOBPQQ9AAAAAoCAYEkAAAAAAAAAQQAAAAOAArhBAAAAA4I9ZEEAAAACAp0kRQAAAAEB11hFAAAAAgHZ1DkAAAAAAAAAUQAAAAOAArhBAAAAA4ACuEEAAAADgAK4QQAAAAMDg/RBAAAAAgHZ1DkAAAACgIBgSQAAAAOBPQQ9AAAAAgKdJEUAAAADgT0EPQAAAAMDg/RBAAAAA4I9ZEEAAAADgT0EPQAAAAAAAABBAAAAAgKdJEUAAAACgu5ERQAAAAOBPQQ9AAAAA4ACuEEAAAACAdnUOQAAAAKC7kRFAAAAAQHXWEUAAAADgAK4QQAAAAKAgGBJAAAAAwOD9EEAAAABgAFcSQAAAAABPkxJAAAAAQHXWEUAAAADA4P0QQAAAAKAgGBJAAAAAgKdJEUAAAAAAAAAQQAAAAKAgGBJAAAAA4E9BD0AAAAAAAAAQQAAAAKC7kRFAAAAAIEDNEkAAAADgAK4QQAAAAOCPWRBAAAAAAAAAEEAAAACAdnUOQAAAAIB2dQ5AAAAAgHZ1DkAAAAAAAAAQQAAAAOBPQQ9AAAAA4ACuDEAAAADgj1kQQAAAAIB2dQ5AAAAAgOqsC0AAAAAggJoNQAAAAIDqrAtAAAAAAE+TCkAAAAAAAAAIQAAAAKABXAlAAAAAoAFcCUAAAACA6qwLQAAAAKABXAlAAAAAAE+TCkAAAADAH7MIQAAAAKABXAlAAAAAoAFcCUAAAACgAVwJQAAAAABPkwpAAAAAYABXEkAAAACA6qwLQAAAAIB2dQZAAAAAgHZ1BkAAAADgAK4EQAAAAAAAAAhAAAAAAAAACEAAAAAAT5MCQAAAAKABXPk/AAAAgPmP2j8=",
          "dtype": "f8"
         },
         "yaxis": "y"
        },
        {
         "line": {
          "color": "#636EFA",
          "dash": "dot",
          "width": 0.75
         },
         "mode": "lines",
         "name": "min",
         "showlegend": false,
         "type": "scatter",
         "x": {
          "bdata": "AAAAAAEAAAACAAAAAwAAAAQAAAAFAAAABgAAAAcAAAAIAAAACQAAAAoAAAALAAAA",
          "dtype": "u4"
         },
         "xaxis": "x5",
         "y": {
          "bdata": "AAAAQKve+T4AAAAgqj1rPwAAAEDD+F8/AAAAgG1FZT8AAAAgPYFyPwAAAAA0mXo/AAAAwJw3gz8AAACAMmqQPwAAACA0F7c/AAAAYGURwD8AAABAeJrUPwAAAKABXPk/",
          "dtype": "f8"
         },
         "yaxis": "y5"
        },
        {
         "line": {
          "color": "#EF553B",
          "dash": "dot",
          "width": 0.75
         },
         "mode": "lines",
         "name": "p5",
         "showlegend": false,
         "type": "scatter",
         "x": {
          "bdata": "AAAAAAEAAAACAAAAAwAAAAQAAAAFAAAABgAAAAcAAAAIAAAACQAAAAoAAAALAAAA",
          "dtype": "u4"
         },
         "xaxis": "x5",
         "y": {
          "bdata": "AAAAQKve+T6amZnJmD2SPwAAACC/ybI/Z2Zmljszvz8AAAAAmKjIP83MzMxwO9I/AQAAAFR71j8AAACA+Y/aPwAAAKA7Ed8/AAAAQAO44j8AAABAA7jiPwAAAKABXPk/",
          "dtype": "f8"
         },
         "yaxis": "y5"
        },
        {
         "line": {
          "color": "#00CC96",
          "dash": "dash",
          "width": 1.25
         },
         "mode": "lines",
         "name": "p25",
         "showlegend": false,
         "type": "scatter",
         "x": {
          "bdata": "AAAAAAEAAAACAAAAAwAAAAQAAAAFAAAABgAAAAcAAAAIAAAACQAAAAoAAAALAAAA",
          "dtype": "u4"
         },
         "xaxis": "x5",
         "y": {
          "bdata": "AAAAQKve+T4AAADQ6HfGPwAAAIh0E9k/AAAAoG7N3T8AAABAA7jiPwAAAODaVuc/AAAAANrV6T8AAABgyiLrPwAAAGDKIus/AAAAYMoi6z8AAABAA7jiPwAAAKABXPk/",
          "dtype": "f8"
         },
         "yaxis": "y5"
        },
        {
         "line": {
          "color": "#AB63FA",
          "dash": "solid",
          "width": 2
         },
         "mode": "lines",
         "name": "median",
         "showlegend": false,
         "type": "scatter",
         "x": {
          "bdata": "AAAAAAEAAAACAAAAAwAAAAQAAAAFAAAABgAAAAcAAAAIAAAACQAAAAoAAAALAAAA",
          "dtype": "u4"
         },
         "xaxis": "x5",
         "y": {
          "bdata": "AAAAQKve+T4AAADghqHXPwAAAKBQzfA/AAAAAAAA8D8AAADAspfxPwAAAGD+o/Y/AAAAoAFc+T8AAACgAVz5PwAAAKABXPk/AAAAoAFc+T8AAACgAVz5PwAAAKABXPk/",
          "dtype": "f8"
         },
         "yaxis": "y5"
        },
        {
         "line": {
          "color": "#FFA15A",
          "dash": "dash",
          "width": 1.25
         },
         "mode": "lines",
         "name": "p75",
         "showlegend": false,
         "type": "scatter",
         "x": {
          "bdata": "AAAAAAEAAAACAAAAAwAAAAQAAAAFAAAABgAAAAcAAAAIAAAACQAAAAoAAAALAAAA",
          "dtype": "u4"
         },
         "xaxis": "x5",
         "y": {
          "bdata": "AAAAQKve+T4AAAAA08XwPwAAAHiKTf4/AAAAQAA1+z8AAACgAVz5PwAAAKABXPk/AAAAoAFc+T8AAACgAVz5PwAAAKABXPk/AAAAoAFc+T8AAACgAVz5PwAAAKABXPk/",
          "dtype": "f8"
         },
         "yaxis": "y5"
        },
        {
         "line": {
          "color": "#19D3F3",
          "dash": "dot",
          "width": 0.75
         },
         "mode": "lines",
         "name": "p95",
         "showlegend": false,
         "type": "scatter",
         "x": {
          "bdata": "AAAAAAEAAAACAAAAAwAAAAQAAAAFAAAABgAAAAcAAAAIAAAACQAAAAoAAAALAAAA",
          "dtype": "u4"
         },
         "xaxis": "x5",
         "y": {
          "bdata": "AAAAQKve+T4zMzNjdUIKQAAAALBhbwdAAAAAIICaBUAAAADgAK4EQAAAAOAArgRAAAAA4ACuBEAAAAAAT5MCQAAAAABPkwJAAAAAAAAAAEAAAAAAAAAAQAAAAKABXPk/",
          "dtype": "f8"
         },
         "yaxis": "y5"
        },
        {
         "line": {
          "color": "#FF6692",
          "dash": "dot",
          "width": 0.75
         },
         "mode": "lines",
         "name": "max",
         "showlegend": false,
         "type": "scatter",
         "x": {
          "bdata": "AAAAAAEAAAACAAAAAwAAAAQAAAAFAAAABgAAAAcAAAAIAAAACQAAAAoAAAALAAAA",
          "dtype": "u4"
         },
         "xaxis": "x5",
         "y": {
          "bdata": "AAAAQKve+T4AAABgkvMKQAAAAOCPWRBAAAAAwGKEFEAAAACgu5ERQAAAAOAArhBAAAAAoLuREUAAAACgu5ERQAAAAEBBMAxAAAAAgHZ1BkAAAAAAT5MCQAAAAKABXPk/",
          "dtype": "f8"
         },
         "yaxis": "y5"
        },
        {
         "line": {
          "color": "#636EFA",
          "dash": "dot",
          "width": 0.75
         },
         "mode": "lines",
         "name": "min",
         "showlegend": false,
         "type": "scatter",
         "x": {
          "bdata": "AAAAAAEAAAACAAAAAwAAAAQAAAAFAAAA",
          "dtype": "u4"
         },
         "xaxis": "x2",
         "y": {
          "bdata": "AAAAQKve+T4AAABAC29pPwAAAAD2iIE/AAAAIIrYnT8AAABAjtXQPwAAAEADuOI/",
          "dtype": "f8"
         },
         "yaxis": "y2"
        },
        {
         "line": {
          "color": "#EF553B",
          "dash": "dot",
          "width": 0.75
         },
         "mode": "lines",
         "name": "p5",
         "showlegend": false,
         "type": "scatter",
         "x": {
          "bdata": "AAAAAAEAAAACAAAAAwAAAAQAAAAFAAAA",
          "dtype": "u4"
         },
         "xaxis": "x2",
         "y": {
          "bdata": "AAAAQKve+T5nZmamZjt5P5qZmeE307I/AAAAQAzp2z8AAABAA7jiPwAAAEADuOI/",
          "dtype": "f8"
         },
         "yaxis": "y2"
        },
        {
         "line": {
          "color": "#00CC96",
          "dash": "dash",
          "width": 1.25
         },
         "mode": "lines",
         "name": "p25",
         "showlegend": false,
         "type": "scatter",
         "x": {
          "bdata": "AAAAAAEAAAACAAAAAwAAAAQAAAAFAAAA",
          "dtype": "u4"
         },
         "xaxis": "x2",
         "y": {
          "bdata": "AAAAQKve+T4AAAAgitidPwAAABib5sg/AAAAQAO44j8AAABAA7jiPwAAAKABXPk/",
          "dtype": "f8"
         },
         "yaxis": "y2"
        },
        {
         "line": {
          "color": "#AB63FA",
          "dash": "solid",
          "width": 2
         },
         "mode": "lines",
         "name": "median",
         "showlegend": false,
         "type": "scatter",
         "x": {
          "bdata": "AAAAAAEAAAACAAAAAwAAAAQAAAAFAAAA",
          "dtype": "u4"
         },
         "xaxis": "x2",
         "y": {
          "bdata": "AAAAQKve+T4AAACAZ5PBPwAAAMAo29o/AAAAoAFc+T8AAACgAVz5PwAAAKABXPk/",
          "dtype": "f8"
         },
         "yaxis": "y2"
        },
        {
         "line": {
          "color": "#FFA15A",
          "dash": "dash",
          "width": 1.25
         },
         "mode": "lines",
         "name": "p75",
         "showlegend": false,
         "type": "scatter",
         "x": {
          "bdata": "AAAAAAEAAAACAAAAAwAAAAQAAAAFAAAA",
          "dtype": "u4"
         },
         "xaxis": "x2",
         "y": {
          "bdata": "AAAAQKve+T4AAACgRrjTPwAAADDeW/A/AAAAoAFc+T8AAACgAVz5PwAAAKABXPk/",
          "dtype": "f8"
         },
         "yaxis": "y2"
        },
        {
         "line": {
          "color": "#19D3F3",
          "dash": "dot",
          "width": 0.75
         },
         "mode": "lines",
         "name": "p95",
         "showlegend": false,
         "type": "scatter",
         "x": {
          "bdata": "AAAAAAEAAAACAAAAAwAAAAQAAAAFAAAA",
          "dtype": "u4"
         },
         "xaxis": "x2",
         "y": {
          "bdata": "AAAAQKve+T5mZmbG46UEQP7//y8ebwBAAAAAoAFc+T8AAACgAVz5PwAAAKABXPk/",
          "dtype": "f8"
         },
         "yaxis": "y2"
        },
        {
         "line": {
          "color": "#FF6692",
          "dash": "dot",
          "width": 0.75
         },
         "mode": "lines",
         "name": "max",
         "showlegend": false,
         "type": "scatter",
         "x": {
          "bdata": "AAAAAAEAAAACAAAAAwAAAAQAAAAFAAAA",
          "dtype": "u4"
         },
         "xaxis": "x2",
         "y": {
          "bdata": "AAAAQKve+T4AAAAgodMLQAAAAEC7OhdAAAAAQHXWEUAAAADgAK4EQAAAAAAAAABA",
          "dtype": "f8"
         },
         "yaxis": "y2"
        },
        {
         "line": {
          "color": "#636EFA",
          "dash": "dot",
          "width": 0.75
         },
         "mode": "lines",
         "name": "min",
         "showlegend": false,
         "type": "scatter",
         "x": {
          "bdata": "AAAAAAEAAAACAAAAAwAAAAQAAAAFAAAABgAAAAcAAAAIAAAACQAAAAoAAAALAAAADAAAAA0AAAAOAAAADwAAABAAAAARAAAAEgAAABMAAAAUAAAAFQAAABYAAAAXAAAAGAAAABkAAAAaAAAAGwAAABwAAAAdAAAA",
          "dtype": "u4"
         },
         "xaxis": "x6",
         "y": {
          "bdata": "AAAAQKve+T4AAACgVCBdPwAAAKDKYYQ/AAAAwCHRlj8AAABAHp+WPwAAAMDzHaM/AAAAAGqvYT8AAABgtVxnPwAAAIDxVmQ/AAAA4J2Uaz8AAABAaR9gPwAAAOAYkm4/AAAAYIT9az8AAACgs1RvPwAAAKAMv3c/AAAAAPGpaT8AAACAMjd8PwAAAMB3UHA/AAAAYGg7VD8AAABAdDJtPwAAAICk5H0/AAAA4NUndj8AAACAFpRaPwAAAIDXn2o/AAAAoLvJiD8AAABAyXmAPwAAAGDIYX4/AAAA4JdMdj8AAAAANM51PwAAAEB4mtQ/",
          "dtype": "f8"
         },
         "yaxis": "y6"
        },
        {
         "line": {
          "color": "#EF553B",
          "dash": "dot",
          "width": 0.75
         },
         "mode": "lines",
         "name": "p5",
         "showlegend": false,
         "type": "scatter",
         "x": {
          "bdata": "AAAAAAEAAAACAAAAAwAAAAQAAAAFAAAABgAAAAcAAAAIAAAACQAAAAoAAAALAAAADAAAAA0AAAAOAAAADwAAABAAAAARAAAAEgAAABMAAAAUAAAAFQAAABYAAAAXAAAAGAAAABkAAAAaAAAAGwAAABwAAAAdAAAA",
          "dtype": "u4"
         },
         "xaxis": "x6",
         "y": {
          "bdata": "AAAAQKve+T4AAAAQ+cVpP5qZmWmanp8/AAAA/KPq0D8AAAAo5y7wPwAAAEADuOI/AAAAgPmP2j8AAAAgb2/TP5qZmRmCaM0/AAAAoNhfzz8AAAAANhnQPwAAAGATnM0/AAAA4Fp3zD8BAACQjKvJPwEAAPC0Es4/NDMzq5KL0j8AAABAeJrUPwAAAEB4mtQ/AAAAQHia1D8AAABAeJrUPwAAAMjLsdE/AAAAQI7V0D8AAADgWnfMPwAAAECO1dA/AAAAAJioyD8AAABITlXKP8zMzEzAvcs/mpmZwdzPwD+amZlZLWC0PwAAAFCUMeA/",
          "dtype": "f8"
         },
         "yaxis": "y6"
        },
        {
         "line": {
          "color": "#00CC96",
          "dash": "dash",
          "width": 1.25
         },
         "mode": "lines",
         "name": "p25",
         "showlegend": false,
         "type": "scatter",
         "x": {
          "bdata": "AAAAAAEAAAACAAAAAwAAAAQAAAAFAAAABgAAAAcAAAAIAAAACQAAAAoAAAALAAAADAAAAA0AAAAOAAAADwAAABAAAAARAAAAEgAAABMAAAAUAAAAFQAAABYAAAAXAAAAGAAAABkAAAAaAAAAGwAAABwAAAAdAAAA",
          "dtype": "u4"
         },
         "xaxis": "x6",
         "y": {
          "bdata": "AAAAQKve+T4AAAAETaeBPwAAAKBbVb0/AAAA+DSS8T8AAABApbz2PwAAAAAAAPA/AAAAeHeJ6D8AAABg02XkPwAAAEADuOI/AAAAQAO44j8AAAAA0N3kPwAAAOA4lec/AAAA4DiV5z8AAADgw7LlPwAAAPD3i+U/AAAAoLER5j8AAAAAi1vlPwAAAEADuOI/AAAAQAO44j8AAABAA7jiPwAAAEADuOI/AAAAQAO44j8AAABAA7jiPwAAAEADuOI/AAAAQAO44j8AAABAA7jiPwAAAEADuOI/AAAAQAO44j8AAAAA+vngPwAAAOA4lec/",
          "dtype": "f8"
         },
         "yaxis": "y6"
        },
        {
         "line": {
          "color": "#AB63FA",
          "dash": "solid",
          "width": 2
         },
         "mode": "lines",
         "name": "median",
         "showlegend": false,
         "type": "scatter",
         "x": {
          "bdata": "AAAAAAEAAAACAAAAAwAAAAQAAAAFAAAABgAAAAcAAAAIAAAACQAAAAoAAAALAAAADAAAAA0AAAAOAAAADwAAABAAAAARAAAAEgAAABMAAAAUAAAAFQAAABYAAAAXAAAAGAAAABkAAAAaAAAAGwAAABwAAAAdAAAA",
          "dtype": "u4"
         },
         "xaxis": "x6",
         "y": {
          "bdata": "AAAAQKve+T4AAABgj6qPPwAAACBWeMY/AAAAQCkN+D8AAABgF0QAQAAAAKABXPk/AAAAAC659z8AAACgYzX0PwAAAEADuPI/AAAAYOuO8z8AAAAgnib1PwAAAKABXPk/AAAAoAFc+T8AAACgAVz5PwAAACCeJvU/AAAAIJ4m9T8AAAAgnib1PwAAAGDrjvM/AAAAIJ4m9T8AAAAgnib1PwAAACCeJvU/AAAAYOQ58z8AAABg647zPwAAAOA2M/I/AAAAAAAA8D8AAAAAAADwPwAAAAAAAPA/AAAAAAAA8D8AAAAAAADwPwAAAAAAAPA/",
          "dtype": "f8"
         },
         "yaxis": "y6"
        },
        {
         "line": {
          "color": "#FFA15A",
          "dash": "dash",
          "width": 1.25
         },
         "mode": "lines",
         "name": "p75",
         "showlegend": false,
         "type": "scatter",
         "x": {
          "bdata": "AAAAAAEAAAACAAAAAwAAAAQAAAAFAAAABgAAAAcAAAAIAAAACQAAAAoAAAALAAAADAAAAA0AAAAOAAAADwAAABAAAAARAAAAEgAAABMAAAAUAAAAFQAAABYAAAAXAAAAGAAAABkAAAAaAAAAGwAAABwAAAAdAAAA",
          "dtype": "u4"
         },
         "xaxis": "x6",
         "y": {
          "bdata": "AAAAQKve+T4AAADo6NaWPwAAAOCuCdM/AAAAYB9l/T8AAABwAFcEQAAAAAAAAABAAAAAoAFc+T8AAACgAVz5PwAAAKABXPk/AAAAoAFc+T8AAACgAVz5PwAAAADt6vw/AAAAAO3q/D8AAADwGKD7PwAAAKABXPk/AAAAoAFc+T8AAACgAVz5PwAAAKABXPk/AAAAoAFc+T8AAACgAVz5PwAAAKABXPk/AAAAoAFc+T8AAACgAVz5PwAAAKABXPk/AAAAoAFc+T8AAACgAVz5PwAAAKABXPk/AAAAoAFc+T8AAACgAVz5PwAAAKABXPk/",
          "dtype": "f8"
         },
         "yaxis": "y6"
        },
        {
         "line": {
          "color": "#19D3F3",
          "dash": "dot",
          "width": 0.75
         },
         "mode": "lines",
         "name": "p95",
         "showlegend": false,
         "type": "scatter",
         "x": {
          "bdata": "AAAAAAEAAAACAAAAAwAAAAQAAAAFAAAABgAAAAcAAAAIAAAACQAAAAoAAAALAAAADAAAAA0AAAAOAAAADwAAABAAAAARAAAAEgAAABMAAAAUAAAAFQAAABYAAAAXAAAAGAAAABkAAAAaAAAAGwAAABwAAAAdAAAA",
          "dtype": "u4"
         },
         "xaxis": "x6",
         "y": {
          "bdata": "AAAAQKve+T4AAABI0HGcP2VmZn764OA/AAAAzDXuBEAAAADgfsULQAAAAIB2dQZAy8zMrEehA0AAAAAAT5MCQAAAAABPkwJAAAAAAE+TAkAAAACA6qwDQAAAAOAArgRAAAAA4ACuBEAAAADgAK4EQAAAAIDqrANAAAAA4ACuBEAAAADgAK4EQAAAAABPkwJAAAAAAE+TAkAAAAAAT5MCQAAAAABPkwJAAAAAAE+TAkAAAAAAT5MCQAAAAABPkwJAAAAAAE+TAkAAAAAAT5MCQAAAAABPkwJAAAAAAE+TAkAAAAAAAAAAQAAAAABPkwJA",
          "dtype": "f8"
         },
         "yaxis": "y6"
        },
        {
         "line": {
          "color": "#FF6692",
          "dash": "dot",
          "width": 0.75
         },
         "mode": "lines",
         "name": "max",
         "showlegend": false,
         "type": "scatter",
         "x": {
          "bdata": "AAAAAAEAAAACAAAAAwAAAAQAAAAFAAAABgAAAAcAAAAIAAAACQAAAAoAAAALAAAADAAAAA0AAAAOAAAADwAAABAAAAARAAAAEgAAABMAAAAUAAAAFQAAABYAAAAXAAAAGAAAABkAAAAaAAAAGwAAABwAAAAdAAAA",
          "dtype": "u4"
         },
         "xaxis": "x6",
         "y": {
          "bdata": "AAAAQKve+T4AAAAgitidPwAAAEADuOI/AAAAoLLIBkAAAAAAzFkSQAAAAMDg/RBAAAAAoE48EEAAAADgj1kQQAAAAOBPQQ9AAAAAgHZ1DkAAAACAdnUOQAAAAIB2dQ5AAAAAYABXEkAAAADAYoQQQAAAAKC7kRFAAAAAgKdJEUAAAADA4P0QQAAAAOCPWRBAAAAAAAAAEEAAAACAp0kRQAAAAOAArgxAAAAAwOD9EEAAAADgAK4MQAAAAABPkwpAAAAAgHZ1DkAAAAAAT5MKQAAAAKABXAlAAAAAAAAAEEAAAAAAT5MCQAAAAABPkwJA",
          "dtype": "f8"
         },
         "yaxis": "y6"
        },
        {
         "line": {
          "color": "#636EFA",
          "dash": "dot",
          "width": 0.75
         },
         "mode": "lines",
         "name": "min",
         "showlegend": false,
         "type": "scatter",
         "x": {
          "bdata": "AAAAAAEAAAACAAAAAwAAAAQAAAAFAAAABgAAAAcAAAAIAAAACQAAAAoAAAALAAAADAAAAA0AAAAOAAAADwAAABAAAAARAAAAEgAAAA==",
          "dtype": "u4"
         },
         "xaxis": "x3",
         "y": {
          "bdata": "AAAAoBuy5D4AAAAgitidPwAAAMCdB8E/AAAAoAFc+T8AAABAGsDFPwAAAOBmVJE/AAAAgIPNXD8AAAAAb1FcPwAAAKBRc1k/AAAAYHxyeD8AAAAAJ1KHPwAAAIAyhG4/AAAAAMwSYD8AAAAA/S5vPwAAAOAeels/AAAAINoAiz8AAADgYq5TPwAAAAD3Y7Y/AAAAwEnt0T8=",
          "dtype": "f8"
         },
         "yaxis": "y3"
        },
        {
         "line": {
          "color": "#EF553B",
          "dash": "dot",
          "width": 0.75
         },
         "mode": "lines",
         "name": "p5",
         "showlegend": false,
         "type": "scatter",
         "x": {
          "bdata": "AAAAAAEAAAACAAAAAwAAAAQAAAAFAAAABgAAAAcAAAAIAAAACQAAAAoAAAALAAAADAAAAA0AAAAOAAAADwAAABAAAAARAAAAEgAAAA==",
          "dtype": "u4"
         },
         "xaxis": "x3",
         "y": {
          "bdata": "AAAAoBuy5D7NzMzuJMzSPwAAAJi+WMI/AAAAIHOs+j8AAABg02XkPwEAAKCJbtY/AAAA4Fp3zD8zMzOTGpvJPwAAAID7bMo/AAAA4IpHyD8AAABAjtXQPwAAAEB4mtQ/AAAAQHia1D8zMzObYAfTPwAAAIBa2c4/AAAA4Fp3zD8AAAAAmKjIPzQzMxtVZNE/AAAAoCzv0z8=",
          "dtype": "f8"
         },
         "yaxis": "y3"
        },
        {
         "line": {
          "color": "#00CC96",
          "dash": "dash",
          "width": 1.25
         },
         "mode": "lines",
         "name": "p25",
         "showlegend": false,
         "type": "scatter",
         "x": {
          "bdata": "AAAAAAEAAAACAAAAAwAAAAQAAAAFAAAABgAAAAcAAAAIAAAACQAAAAoAAAALAAAADAAAAA0AAAAOAAAADwAAABAAAAARAAAAEgAAAA==",
          "dtype": "u4"
         },
         "xaxis": "x3",
         "y": {
          "bdata": "AAAAoBuy5D4AAICIpaH1PwAAAPhBncc/AAAAmHMl/z8AAAB4B6LxPwAAAIDhD+k/AAAAQAO44j8AAABAA7jiPwAAAODUGOQ/AAAAQAO44j8AAADgw7LlPwAAAEADuOI/AAAAQAO44j8AAABAA7jiPwAAAEADuOI/AAAAQAO44j8AAABAA7jiPwAAAEADuOI/AAAAgPmP2j8=",
          "dtype": "f8"
         },
         "yaxis": "y3"
        },
        {
         "line": {
          "color": "#AB63FA",
          "dash": "solid",
          "width": 2
         },
         "mode": "lines",
         "name": "median",
         "showlegend": false,
         "type": "scatter",
         "x": {
          "bdata": "AAAAAAEAAAACAAAAAwAAAAQAAAAFAAAABgAAAAcAAAAIAAAACQAAAAoAAAALAAAADAAAAA0AAAAOAAAADwAAABAAAAARAAAAEgAAAA==",
          "dtype": "u4"
         },
         "xaxis": "x3",
         "y": {
          "bdata": "AAAAoBuy5D4AAABg9GUFQAAAACDMK9k/AAAAAPxxAkAAAACgAVz5PwAAAADVWfc/AAAAgK0G8T8AAABg647zPwAAAGD+o/Y/AAAA4E9B9z8AAAAgnib1PwAAAGDrjvM/AAAAYOuO8z8AAABAA7jyPwAAAAAAAPA/AAAAAAAA8D8AAAAAAADwPwAAAAAAAPA/AAAAoAFc6T8=",
          "dtype": "f8"
         },
         "yaxis": "y3"
        },
        {
         "line": {
          "color": "#FFA15A",
          "dash": "dash",
          "width": 1.25
         },
         "mode": "lines",
         "name": "p75",
         "showlegend": false,
         "type": "scatter",
         "x": {
          "bdata": "AAAAAAEAAAACAAAAAwAAAAQAAAAFAAAABgAAAAcAAAAIAAAACQAAAAoAAAALAAAADAAAAA0AAAAOAAAADwAAABAAAAARAAAAEgAAAA==",
          "dtype": "u4"
         },
         "xaxis": "x3",
         "y": {
          "bdata": "AAAAoBuy5D4AAAAQFvsPQAAAAGADLfs/AAAAAPU3BkAAAAAAAAAAQAAAAKABXPk/AAAAoAFc+T8AAACgAVz5PwAAAKABXPk/AAAAoAFc+T8AAACgAVz5PwAAAKABXPk/AAAAoAFc+T8AAACgAVz5PwAAAKABXPk/AAAAoAFc+T8AAACgAVz5PwAAAKABXPk/AAAAoAFc+T8=",
          "dtype": "f8"
         },
         "yaxis": "y3"
        },
        {
         "line": {
          "color": "#19D3F3",
          "dash": "dot",
          "width": 0.75
         },
         "mode": "lines",
         "name": "p95",
         "showlegend": false,
         "type": "scatter",
         "x": {
          "bdata": "AAAAAAEAAAACAAAAAwAAAAQAAAAFAAAABgAAAAcAAAAIAAAACQAAAAoAAAALAAAADAAAAA0AAAAOAAAADwAAABAAAAARAAAAEgAAAA==",
          "dtype": "u4"
         },
         "xaxis": "x3",
         "y": {
          "bdata": "AAAAoBuy5D4zMzMbMjkUQGVmZnbbexFAAAAAFGDiE0AAAACAdnUGQAAAAIDqrANAAAAAAE+TAkAAAAAAT5MCQAAAAABPkwJAAAAAAE+TAkCGzMyEU7EDQAAAAABPkwJAAAAAAE+TAkAAAAAAT5MCQAAAAABPkwJAAAAAAE+TAkAAAACgAVwBQAAAAAAAAABAAAAAOAEF+z8=",
          "dtype": "f8"
         },
         "yaxis": "y3"
        },
        {
         "line": {
          "color": "#FF6692",
          "dash": "dot",
          "width": 0.75
         },
         "mode": "lines",
         "name": "max",
         "showlegend": false,
         "type": "scatter",
         "x": {
          "bdata": "AAAAAAEAAAACAAAAAwAAAAQAAAAFAAAABgAAAAcAAAAIAAAACQAAAAoAAAALAAAADAAAAA0AAAAOAAAADwAAABAAAAARAAAAEgAAAA==",
          "dtype": "u4"
         },
         "xaxis": "x3",
         "y": {
          "bdata": "AAAAoBuy5D4AAADgG0gVQAAAACACKBRAAAAAAA23FkAAAABAmIkRQAAAAIBAJBFAAAAAwOD9EEAAAABAddYRQAAAAOBPQQ9AAAAA4E9BD0AAAACgu5ERQAAAAGAAVxJAAAAA4I9ZEEAAAADgAK4MQAAAACCAmg1AAAAA4ACuDEAAAADgT0EPQAAAAIDqrAtAAAAAAAAAAEA=",
          "dtype": "f8"
         },
         "yaxis": "y3"
        },
        {
         "line": {
          "color": "#636EFA",
          "dash": "dot",
          "width": 0.75
         },
         "mode": "lines",
         "name": "min",
         "showlegend": false,
         "type": "scatter",
         "x": {
          "bdata": "AAAAAAEAAAACAAAAAwAAAAQAAAAFAAAABgAAAAcAAAAIAAAACQAAAAoAAAALAAAADAAAAA0AAAAOAAAADwAAAA==",
          "dtype": "u4"
         },
         "xaxis": "x7",
         "y": {
          "bdata": "AAAAoBuy5D4AAAAgitidPwAAAKBtNH4/AAAAwD+47T8AAACAkGmFPwAAAKBSgHA/AAAAgDLdUT8AAACAIT1tPwAAAODQqHk/AAAAIOu8aD8AAACgcv1uPwAAAGDk2ng/AAAAYDisgj8AAABgoeyHPwAAAMDZoYM/AAAA4Fp3zD8=",
          "dtype": "f8"
         },
         "yaxis": "y7"
        },
        {
         "line": {
          "color": "#EF553B",
          "dash": "dot",
          "width": 0.75
         },
         "mode": "lines",
         "name": "p5",
         "showlegend": false,
         "type": "scatter",
         "x": {
          "bdata": "AAAAAAEAAAACAAAAAwAAAAQAAAAFAAAABgAAAAcAAAAIAAAACQAAAAoAAAALAAAADAAAAA0AAAAOAAAADwAAAA==",
          "dtype": "u4"
         },
         "xaxis": "x7",
         "y": {
          "bdata": "AAAAoBuy5D4AAACi9PzSP87MzJSIFZo/MzMz8z+L7z9nZmY2qc3YPwEAAFiF1s8/0MzMDAT3zj8AAAAg9QLOPzQzMzMqEc8/AAAAQHia1D8AAABAeJrUPwAAAMBGh9I/AAAAQI7V0D8AAADgWnfMP5qZmSlhbsQ/AAAAUMqm3z8=",
          "dtype": "f8"
         },
         "yaxis": "y7"
        },
        {
         "line": {
          "color": "#00CC96",
          "dash": "dash",
          "width": 1.25
         },
         "mode": "lines",
         "name": "p25",
         "showlegend": false,
         "type": "scatter",
         "x": {
          "bdata": "AAAAAAEAAAACAAAAAwAAAAQAAAAFAAAABgAAAAcAAAAIAAAACQAAAAoAAAALAAAADAAAAA0AAAAOAAAADwAAAA==",
          "dtype": "u4"
         },
         "xaxis": "x7",
         "y": {
          "bdata": "AAAAoBuy5D4AAIAoqd71PwAAAFjPDbk/AAAAYOuO8z8AAABgPwXtPwAAAEADuOI/AAAAALSr4z8AAADgOJXnPwAAAODUGOQ/AAAAQAO44j8AAABAA7jiPwAAAEADuOI/AAAAQAO44j8AAABAA7jiPwAAAEADuOI/AAAAAAAA8D8=",
          "dtype": "f8"
         },
         "yaxis": "y7"
        },
        {
         "line": {
          "color": "#AB63FA",
          "dash": "solid",
          "width": 2
         },
         "mode": "lines",
         "name": "median",
         "showlegend": false,
         "type": "scatter",
         "x": {
          "bdata": "AAAAAAEAAAACAAAAAwAAAAQAAAAFAAAABgAAAAcAAAAIAAAACQAAAAoAAAALAAAADAAAAA0AAAAOAAAADwAAAA==",
          "dtype": "u4"
         },
         "xaxis": "x7",
         "y": {
          "bdata": "AAAAoBuy5D4AAAAA+KIFQAAAAIA7GcU/AAAAoAFc+T8AAABg/qP2PwAAAGDrjvM/AAAAIJ4m9T8AAACgAVz5PwAAACCeJvU/AAAAIJ4m9T8AAABg647zPwAAAKD+2PE/AAAAAAAA8D8AAAAAAADwPwAAAAAAAPA/AAAAoAFc+T8=",
          "dtype": "f8"
         },
         "yaxis": "y7"
        },
        {
         "line": {
          "color": "#FFA15A",
          "dash": "dash",
          "width": 1.25
         },
         "mode": "lines",
         "name": "p75",
         "showlegend": false,
         "type": "scatter",
         "x": {
          "bdata": "AAAAAAEAAAACAAAAAwAAAAQAAAAFAAAABgAAAAcAAAAIAAAACQAAAAoAAAALAAAADAAAAA0AAAAOAAAADwAAAA==",
          "dtype": "u4"
         },
         "xaxis": "x7",
         "y": {
          "bdata": "AAAAoBuy5D4AAADATSsQQAAAAOCuCdM/AAAA4ACuBEAAAAAA7er8PwAAAKABXPk/AAAAoAFc+T8AAABgnMr7PwAAAKABXPk/AAAAoAFc+T8AAACgAVz5PwAAAKABXPk/AAAAoAFc+T8AAACgAVz5PwAAAKABXPk/AAAAwDGw/T8=",
          "dtype": "f8"
         },
         "yaxis": "y7"
        },
        {
         "line": {
          "color": "#19D3F3",
          "dash": "dot",
          "width": 0.75
         },
         "mode": "lines",
         "name": "p95",
         "showlegend": false,
         "type": "scatter",
         "x": {
          "bdata": "AAAAAAEAAAACAAAAAwAAAAQAAAAFAAAABgAAAAcAAAAIAAAACQAAAAoAAAALAAAADAAAAA0AAAAOAAAADwAAAA==",
          "dtype": "u4"
         },
         "xaxis": "x7",
         "y": {
          "bdata": "AAAAoBuy5D4AAADAKHMUQGVmZn764OA/lpmZmYrpDUAAAADgAK4EQAAAAABPkwJAAAAAAE+TAkAAAADgAK4EQAAAAABPkwJAAAAAAE+TAkAAAAAAT5MCQAAAAABPkwJAAAAAAE+TAkAAAAAAAAAAQAAAAAAAAABAAAAAAAAAAEA=",
          "dtype": "f8"
         },
         "yaxis": "y7"
        },
        {
         "line": {
          "color": "#FF6692",
          "dash": "dot",
          "width": 0.75
         },
         "mode": "lines",
         "name": "max",
         "showlegend": false,
         "type": "scatter",
         "x": {
          "bdata": "AAAAAAEAAAACAAAAAwAAAAQAAAAFAAAABgAAAAcAAAAIAAAACQAAAAoAAAALAAAADAAAAA0AAAAOAAAADwAAAA==",
          "dtype": "u4"
         },
         "xaxis": "x7",
         "y": {
          "bdata": "AAAAoBuy5D4AAACAH4UVQAAAAEADuOI/AAAAQGNdFUAAAACAp0kRQAAAAOAArhBAAAAAAAAAEEAAAADgj1kQQAAAAKC7kRFAAAAAgKdJEUAAAADgj1kQQAAAAKC7kRFAAAAAIICaDUAAAACgAVwJQAAAAKABXAlAAAAAAAAAAEA=",
          "dtype": "f8"
         },
         "yaxis": "y7"
        },
        {
         "line": {
          "color": "#636EFA",
          "dash": "dot",
          "width": 0.75
         },
         "mode": "lines",
         "name": "min",
         "showlegend": false,
         "type": "scatter",
         "x": {
          "bdata": "AAAAAAEAAAACAAAAAwAAAAQAAAAFAAAABgAAAAcAAAAIAAAACQAAAAoAAAALAAAADAAAAA0AAAAOAAAADwAAAA==",
          "dtype": "u4"
         },
         "xaxis": "x4",
         "y": {
          "bdata": "AAAAoBuy5D4AAAAgitidPwAAAGAjz8k/AAAAQHia1D8AAABAX/R+PwAAAKCw1nI/AAAAwF34ZD8AAABgk05XPwAAAEBx83I/AAAAIEF1XT8AAACg2khePwAAACDMvG4/AAAA4IyedT8AAACgRWCSPwAAAMBHa5g/AAAAQI7V0D8=",
          "dtype": "f8"
         },
         "yaxis": "y4"
        },
        {
         "line": {
          "color": "#EF553B",
          "dash": "dot",
          "width": 0.75
         },
         "mode": "lines",
         "name": "p5",
         "showlegend": false,
         "type": "scatter",
         "x": {
          "bdata": "AAAAAAEAAAACAAAAAwAAAAQAAAAFAAAABgAAAAcAAAAIAAAACQAAAAoAAAALAAAADAAAAA0AAAAOAAAADwAAAA==",
          "dtype": "u4"
         },
         "xaxis": "x4",
         "y": {
          "bdata": "AAAAoBuy5D4AAAAiXQbUP5qZmQmpz9E/AAAAQAO44j/NzMw8dbnbPwAAAECO1dA/AAAA4Fp3zD8AAACAWtnOPwAAAAAkSdE/AAAAQHia1D8AAABAeJrUPwAAAECO1dA/AAAA4Fp3zD8AAAAAmKjIPzQzM5MId8c/AAAAQI7V0D8=",
          "dtype": "f8"
         },
         "yaxis": "y4"
        },
        {
         "line": {
          "color": "#00CC96",
          "dash": "dash",
          "width": 1.25
         },
         "mode": "lines",
         "name": "p25",
         "showlegend": false,
         "type": "scatter",
         "x": {
          "bdata": "AAAAAAEAAAACAAAAAwAAAAQAAAAFAAAABgAAAAcAAAAIAAAACQAAAAoAAAALAAAADAAAAA0AAAAOAAAADwAAAA==",
          "dtype": "u4"
         },
         "xaxis": "x4",
         "y": {
          "bdata": "AAAAoBuy5D4AAIDIayr3PwAAAEADuOI/AAAAAAAA8D8AAAAAAADwPwAAAEADuOI/AAAAQAO44j8AAADgw7LlPwAAAOA4lec/AAAAgNLy5T8AAABAA7jiPwAAAEADuOI/AAAAQAO44j8AAABAA7jiPwAAAEADuOI/AAAAgPmP2j8=",
          "dtype": "f8"
         },
         "yaxis": "y4"
        },
        {
         "line": {
          "color": "#AB63FA",
          "dash": "solid",
          "width": 2
         },
         "mode": "lines",
         "name": "median",
         "showlegend": false,
         "type": "scatter",
         "x": {
          "bdata": "AAAAAAEAAAACAAAAAwAAAAQAAAAFAAAABgAAAAcAAAAIAAAACQAAAAoAAAALAAAADAAAAA0AAAAOAAAADwAAAA==",
          "dtype": "u4"
         },
         "xaxis": "x4",
         "y": {
          "bdata": "AAAAoBuy5D4AAACguu4GQAAAAAD9NwJAAAAAoAFc+T8AAAAgsTv4PwAAAGDrjvM/AAAAYOuO8z8AAACgAVz5PwAAAKABXPk/AAAAIJ4m9T8AAABg647zPwAAAKD+2PE/AAAAAAAA8D8AAAAAAADwPwAAAAAAAPA/AAAAAAAA8D8=",
          "dtype": "f8"
         },
         "yaxis": "y4"
        },
        {
         "line": {
          "color": "#FFA15A",
          "dash": "dash",
          "width": 1.25
         },
         "mode": "lines",
         "name": "p75",
         "showlegend": false,
         "type": "scatter",
         "x": {
          "bdata": "AAAAAAEAAAACAAAAAwAAAAQAAAAFAAAABgAAAAcAAAAIAAAACQAAAAoAAAALAAAADAAAAA0AAAAOAAAADwAAAA==",
          "dtype": "u4"
         },
         "xaxis": "x4",
         "y": {
          "bdata": "AAAAoBuy5D4AAAC4HyQRQAAAAIDePwZAAAAAAAAAAEAAAADQ/Ez+PwAAAKABXPk/AAAAoAFc+T8AAABYfjn6PwAAAKABXPk/AAAAoAFc+T8AAACgAVz5PwAAAKABXPk/AAAAoAFc+T8AAACgAVz5PwAAAKABXPk/AAAA8DG19z8=",
          "dtype": "f8"
         },
         "yaxis": "y4"
        },
        {
         "line": {
          "color": "#19D3F3",
          "dash": "dot",
          "width": 0.75
         },
         "mode": "lines",
         "name": "p95",
         "showlegend": false,
         "type": "scatter",
         "x": {
          "bdata": "AAAAAAEAAAACAAAAAwAAAAQAAAAFAAAABgAAAAcAAAAIAAAACQAAAAoAAAALAAAADAAAAA0AAAAOAAAADwAAAA==",
          "dtype": "u4"
         },
         "xaxis": "x4",
         "y": {
          "bdata": "AAAAoBuy5D4AAADYVK4VQJmZmdmXCBJAAAAA4ACuBEBkZmZWEtwFQAAAAABPkwJAAAAAgOqsA0AAAADgAK4EQAAAAOAArgRAAAAA4ACuBEAAAAAAT5MCQAAAAABPkwJAAAAAoAFcAUAAAAAAAAAAQAAAAAAAAABAAAAAAAAAAEA=",
          "dtype": "f8"
         },
         "yaxis": "y4"
        },
        {
         "line": {
          "color": "#FF6692",
          "dash": "dot",
          "width": 0.75
         },
         "mode": "lines",
         "name": "max",
         "showlegend": false,
         "type": "scatter",
         "x": {
          "bdata": "AAAAAAEAAAACAAAAAwAAAAQAAAAFAAAABgAAAAcAAAAIAAAACQAAAAoAAAALAAAADAAAAA0AAAAOAAAADwAAAA==",
          "dtype": "u4"
         },
         "xaxis": "x4",
         "y": {
          "bdata": "AAAAoBuy5D4AAAAg4tAWQAAAAADCwhNAAAAAIKYpEUAAAADgT0EPQAAAAKC7kRFAAAAA4ACuEEAAAAAAAAAQQAAAACBAzRJAAAAAoLuREUAAAADA4P0QQAAAAIB2dQ5AAAAA4ACuDEAAAAAAT5MKQAAAAOBPQQdAAAAAAAAAAEA=",
          "dtype": "f8"
         },
         "yaxis": "y4"
        },
        {
         "line": {
          "color": "#636EFA",
          "dash": "dot",
          "width": 0.75
         },
         "mode": "lines",
         "name": "min",
         "showlegend": false,
         "type": "scatter",
         "x": {
          "bdata": "AAAAAAEAAAACAAAAAwAAAAQAAAAFAAAABgAAAAcAAAAIAAAACQAAAAoAAAALAAAADAAAAA0AAAAOAAAADwAAABAAAAARAAAAEgAAABMAAAAUAAAAFQAAABYAAAAXAAAA",
          "dtype": "u4"
         },
         "xaxis": "x8",
         "y": {
          "bdata": "AAAAAC0L7z4AAAAAehJJPwAAAGAjz8k/AAAAoAFc+T8AAABAA7jiPwAAAGAj0Gs/AAAAQG/9cT8AAACgx+ZhPwAAAMB1604/AAAAIC3fUz8AAABgTvpwPwAAAKBmdX4/AAAAgO3Ohz8AAABAtcVsPwAAACBPC10/AAAAgIyHdD8AAABgfCR2PwAAAMA6BG4/AAAAYOBhfz8AAABgSBKAPwAAAIAWs5A/AAAAgGaGkD8AAABAjtXQPwAAAAAAAPA/",
          "dtype": "f8"
         },
         "yaxis": "y8"
        },
        {
         "line": {
          "color": "#EF553B",
          "dash": "dot",
          "width": 0.75
         },
         "mode": "lines",
         "name": "p5",
         "showlegend": false,
         "type": "scatter",
         "x": {
          "bdata": "AAAAAAEAAAACAAAAAwAAAAQAAAAFAAAABgAAAAcAAAAIAAAACQAAAAoAAAALAAAADAAAAA0AAAAOAAAADwAAABAAAAARAAAAEgAAABMAAAAUAAAAFQAAABYAAAAXAAAA",
          "dtype": "u4"
         },
         "xaxis": "x8",
         "y": {
          "bdata": "AAAAAC0L7z6amZmZmuRhPzMzMzOjldA/AAAA8JXs+j80MzOzArXqPwAAAID5j9o/AAAAQI7V0D80MzNTQivNPwAAAOBad8w/AQAAIHvQyz8zMzOTms3JP2hmZu5xf80/m5mZec/G0z8AAABAeJrUPwAAAEB4mtQ/AAAA4P4r0z8AAABAjtXQP2dmZibMds4/AAAAgPtsyj8BAACQK3rOPwAAAEAawMU/AAAAmCVzxz8AAABAeJrUP5qZmeHMd/A/",
          "dtype": "f8"
         },
         "yaxis": "y8"
        },
        {
         "line": {
          "color": "#00CC96",
          "dash": "dash",
          "width": 1.25
         },
         "mode": "lines",
         "name": "p25",
         "showlegend": false,
         "type": "scatter",
         "x": {
          "bdata": "AAAAAAEAAAACAAAAAwAAAAQAAAAFAAAABgAAAAcAAAAIAAAACQAAAAoAAAALAAAADAAAAA0AAAAOAAAADwAAABAAAAARAAAAEgAAABMAAAAUAAAAFQAAABYAAAAXAAAA",
          "dtype": "u4"
         },
         "xaxis": "x8",
         "y": {
          "bdata": "AAAAAC0L7z4AAADAIhmAPwAAAFDpTd8/AAAAvIuNAUAAAADgth32PwAAAIDJoe0/AAAAQAO44j8AAABAA7jiPwAAAEADuOI/AAAA4MOy5T8AAAAA0N3kPwAAAGDTZeQ/AAAA4MOy5T8AAABAA7jiPwAAAEADuOI/AAAAQAO44j8AAABAA7jiPwAAAEADuOI/AAAAQAO44j8AAABAA7jiPwAAAEADuOI/AAAAQAO44j8AAABAA7jiPwAAAGgAV/I/",
          "dtype": "f8"
         },
         "yaxis": "y8"
        },
        {
         "line": {
          "color": "#AB63FA",
          "dash": "solid",
          "width": 2
         },
         "mode": "lines",
         "name": "median",
         "showlegend": false,
         "type": "scatter",
         "x": {
          "bdata": "AAAAAAEAAAACAAAAAwAAAAQAAAAFAAAABgAAAAcAAAAIAAAACQAAAAoAAAALAAAADAAAAA0AAAAOAAAADwAAABAAAAARAAAAEgAAABMAAAAUAAAAFQAAABYAAAAXAAAA",
          "dtype": "u4"
         },
         "xaxis": "x8",
         "y": {
          "bdata": "AAAAAC0L7z4AAAAAHqGOPwAAAEDRt/A/AAAAgOQ6B0AAAADAx9P8PwAAAGD+o/Y/AAAAYOuO8z8AAABg647zPwAAACCeJvU/AAAAANVZ9z8AAACgAVz5PwAAACCeJvU/AAAAIJ4m9T8AAACgYzX0PwAAAKBjNfQ/AAAAoGM19D8AAADAeyfzPwAAAAAAAPA/AAAAAAAA8D8AAAAAAADwPwAAAAAAAPA/AAAAAAAA8D8AAAAAAADwPwAAAMAArvQ/",
          "dtype": "f8"
         },
         "yaxis": "y8"
        },
        {
         "line": {
          "color": "#FFA15A",
          "dash": "dash",
          "width": 1.25
         },
         "mode": "lines",
         "name": "p75",
         "showlegend": false,
         "type": "scatter",
         "x": {
          "bdata": "AAAAAAEAAAACAAAAAwAAAAQAAAAFAAAABgAAAAcAAAAIAAAACQAAAAoAAAALAAAADAAAAA0AAAAOAAAADwAAABAAAAARAAAAEgAAABMAAAAUAAAAFQAAABYAAAAXAAAA",
          "dtype": "u4"
         },
         "xaxis": "x8",
         "y": {
          "bdata": "AAAAAC0L7z4AAACQjJSWPwAAAMBYKQNAAAAAYEbHC0AAAABYlcQCQAAAAADt6vw/AAAAoAFc+T8AAACgAVz5PwAAAKABXPk/AAAAQIGb+j8AAACgAVz5PwAAAKABXPk/AAAAoAFc+T8AAACgAVz5PwAAAKABXPk/AAAAoAFc+T8AAACgAVz5PwAAAKABXPk/AAAAoAFc+T8AAACgAVz5PwAAAKABXPk/AAAAoAFc+T8AAACgAVz5PwAAADgBBfc/",
          "dtype": "f8"
         },
         "yaxis": "y8"
        },
        {
         "line": {
          "color": "#19D3F3",
          "dash": "dot",
          "width": 0.75
         },
         "mode": "lines",
         "name": "p95",
         "showlegend": false,
         "type": "scatter",
         "x": {
          "bdata": "AAAAAAEAAAACAAAAAwAAAAQAAAAFAAAABgAAAAcAAAAIAAAACQAAAAoAAAALAAAADAAAAA0AAAAOAAAADwAAABAAAAARAAAAEgAAABMAAAAUAAAAFQAAABYAAAAXAAAA",
          "dtype": "u4"
         },
         "xaxis": "x8",
         "y": {
          "bdata": "AAAAAC0L7z7MzMycimScP8vMzJTpIBJAAAAAVFNSFkAzMzOrYIkKQAAAAOAArgRAAAAAAE+TAkAAAAAAT5MCQAAAAABPkwJAAAAA4ACuBEBVMzOTkA0EQAAAAABPkwJAAAAA4ACuBEAAAADgAK4EQAAAAABPkwJAAAAAAE+TAkAAAAAAT5MCQAAAAABPkwJAAAAAAE+TAkAAAAAAT5MCQAAAAABPkwJAAAAAAAAAAEAAAAAAAAAAQGZmZr405Pg/",
          "dtype": "f8"
         },
         "yaxis": "y8"
        },
        {
         "line": {
          "color": "#FF6692",
          "dash": "dot",
          "width": 0.75
         },
         "mode": "lines",
         "name": "max",
         "showlegend": false,
         "type": "scatter",
         "x": {
          "bdata": "AAAAAAEAAAACAAAAAwAAAAQAAAAFAAAABgAAAAcAAAAIAAAACQAAAAoAAAALAAAADAAAAA0AAAAOAAAADwAAABAAAAARAAAAEgAAABMAAAAUAAAAFQAAABYAAAAXAAAA",
          "dtype": "u4"
         },
         "xaxis": "x8",
         "y": {
          "bdata": "AAAAAC0L7z4AAAAgitidPwAAAOD4QxRAAAAAYIvnGEAAAABAu80YQAAAAOAArhBAAAAA4E9BD0AAAADA4P0QQAAAAAAAABBAAAAAwOD9EEAAAAAAAAAQQAAAAMDg/RBAAAAAQHXWEUAAAACgu5ERQAAAAOCPWRBAAAAAgHZ1DkAAAACAdnUOQAAAAOAArgxAAAAA4ACuDEAAAAAAT5MKQAAAAKABXAlAAAAAgHZ1BkAAAADgAK4EQAAAAKABXPk/",
          "dtype": "f8"
         },
         "yaxis": "y8"
        }
       ],
       "layout": {
        "annotations": [
         {
          "font": {
           "size": 16
          },
          "showarrow": false,
          "text": "bf(fixed(2))",
          "x": 0.115625,
          "xanchor": "center",
          "xref": "paper",
          "y": 1,
          "yanchor": "bottom",
          "yref": "paper"
         },
         {
          "font": {
           "size": 16
          },
          "showarrow": false,
          "text": "bf(logarithmic)",
          "x": 0.37187500000000007,
          "xanchor": "center",
          "xref": "paper",
          "y": 1,
          "yanchor": "bottom",
          "yref": "paper"
         },
         {
          "font": {
           "size": 16
          },
          "showarrow": false,
          "text": "bf(adaptive(128))",
          "x": 0.628125,
          "xanchor": "center",
          "xref": "paper",
          "y": 1,
          "yanchor": "bottom",
          "yref": "paper"
         },
         {
          "font": {
           "size": 16
          },
          "showarrow": false,
          "text": "srf(sqrt2)",
          "x": 0.884375,
          "xanchor": "center",
          "xref": "paper",
          "y": 1,
          "yanchor": "bottom",
          "yref": "paper"
         },
         {
          "font": {
           "size": 16
          },
          "showarrow": false,
          "text": "srf(two)",
          "x": 0.115625,
          "xanchor": "center",
          "xref": "paper",
          "y": 0.45,
          "yanchor": "bottom",
          "yref": "paper"
         },
         {
          "font": {
           "size": 16
          },
          "showarrow": false,
          "text": "srf(e)",
          "x": 0.37187500000000007,
          "xanchor": "center",
          "xref": "paper",
          "y": 0.45,
          "yanchor": "bottom",
          "yref": "paper"
         },
         {
          "font": {
           "size": 16
          },
          "showarrow": false,
          "text": "srf(pi)",
          "x": 0.628125,
          "xanchor": "center",
          "xref": "paper",
          "y": 0.45,
          "yanchor": "bottom",
          "yref": "paper"
         },
         {
          "font": {
           "size": 16
          },
          "showarrow": false,
          "text": "srf(phi)",
          "x": 0.884375,
          "xanchor": "center",
          "xref": "paper",
          "y": 0.45,
          "yanchor": "bottom",
          "yref": "paper"
         }
        ],
        "height": 800,
        "template": {
         "data": {
          "bar": [
           {
            "error_x": {
             "color": "#2a3f5f"
            },
            "error_y": {
             "color": "#2a3f5f"
            },
            "marker": {
             "line": {
              "color": "#E5ECF6",
              "width": 0.5
             },
             "pattern": {
              "fillmode": "overlay",
              "size": 10,
              "solidity": 0.2
             }
            },
            "type": "bar"
           }
          ],
          "barpolar": [
           {
            "marker": {
             "line": {
              "color": "#E5ECF6",
              "width": 0.5
             },
             "pattern": {
              "fillmode": "overlay",
              "size": 10,
              "solidity": 0.2
             }
            },
            "type": "barpolar"
           }
          ],
          "carpet": [
           {
            "aaxis": {
             "endlinecolor": "#2a3f5f",
             "gridcolor": "white",
             "linecolor": "white",
             "minorgridcolor": "white",
             "startlinecolor": "#2a3f5f"
            },
            "baxis": {
             "endlinecolor": "#2a3f5f",
             "gridcolor": "white",
             "linecolor": "white",
             "minorgridcolor": "white",
             "startlinecolor": "#2a3f5f"
            },
            "type": "carpet"
           }
          ],
          "choropleth": [
           {
            "colorbar": {
             "outlinewidth": 0,
             "ticks": ""
            },
            "type": "choropleth"
           }
          ],
          "contour": [
           {
            "colorbar": {
             "outlinewidth": 0,
             "ticks": ""
            },
            "colorscale": [
             [
              0,
              "#0d0887"
             ],
             [
              0.1111111111111111,
              "#46039f"
             ],
             [
              0.2222222222222222,
              "#7201a8"
             ],
             [
              0.3333333333333333,
              "#9c179e"
             ],
             [
              0.4444444444444444,
              "#bd3786"
             ],
             [
              0.5555555555555556,
              "#d8576b"
             ],
             [
              0.6666666666666666,
              "#ed7953"
             ],
             [
              0.7777777777777778,
              "#fb9f3a"
             ],
             [
              0.8888888888888888,
              "#fdca26"
             ],
             [
              1,
              "#f0f921"
             ]
            ],
            "type": "contour"
           }
          ],
          "contourcarpet": [
           {
            "colorbar": {
             "outlinewidth": 0,
             "ticks": ""
            },
            "type": "contourcarpet"
           }
          ],
          "heatmap": [
           {
            "colorbar": {
             "outlinewidth": 0,
             "ticks": ""
            },
            "colorscale": [
             [
              0,
              "#0d0887"
             ],
             [
              0.1111111111111111,
              "#46039f"
             ],
             [
              0.2222222222222222,
              "#7201a8"
             ],
             [
              0.3333333333333333,
              "#9c179e"
             ],
             [
              0.4444444444444444,
              "#bd3786"
             ],
             [
              0.5555555555555556,
              "#d8576b"
             ],
             [
              0.6666666666666666,
              "#ed7953"
             ],
             [
              0.7777777777777778,
              "#fb9f3a"
             ],
             [
              0.8888888888888888,
              "#fdca26"
             ],
             [
              1,
              "#f0f921"
             ]
            ],
            "type": "heatmap"
           }
          ],
          "histogram": [
           {
            "marker": {
             "pattern": {
              "fillmode": "overlay",
              "size": 10,
              "solidity": 0.2
             }
            },
            "type": "histogram"
           }
          ],
          "histogram2d": [
           {
            "colorbar": {
             "outlinewidth": 0,
             "ticks": ""
            },
            "colorscale": [
             [
              0,
              "#0d0887"
             ],
             [
              0.1111111111111111,
              "#46039f"
             ],
             [
              0.2222222222222222,
              "#7201a8"
             ],
             [
              0.3333333333333333,
              "#9c179e"
             ],
             [
              0.4444444444444444,
              "#bd3786"
             ],
             [
              0.5555555555555556,
              "#d8576b"
             ],
             [
              0.6666666666666666,
              "#ed7953"
             ],
             [
              0.7777777777777778,
              "#fb9f3a"
             ],
             [
              0.8888888888888888,
              "#fdca26"
             ],
             [
              1,
              "#f0f921"
             ]
            ],
            "type": "histogram2d"
           }
          ],
          "histogram2dcontour": [
           {
            "colorbar": {
             "outlinewidth": 0,
             "ticks": ""
            },
            "colorscale": [
             [
              0,
              "#0d0887"
             ],
             [
              0.1111111111111111,
              "#46039f"
             ],
             [
              0.2222222222222222,
              "#7201a8"
             ],
             [
              0.3333333333333333,
              "#9c179e"
             ],
             [
              0.4444444444444444,
              "#bd3786"
             ],
             [
              0.5555555555555556,
              "#d8576b"
             ],
             [
              0.6666666666666666,
              "#ed7953"
             ],
             [
              0.7777777777777778,
              "#fb9f3a"
             ],
             [
              0.8888888888888888,
              "#fdca26"
             ],
             [
              1,
              "#f0f921"
             ]
            ],
            "type": "histogram2dcontour"
           }
          ],
          "mesh3d": [
           {
            "colorbar": {
             "outlinewidth": 0,
             "ticks": ""
            },
            "type": "mesh3d"
           }
          ],
          "parcoords": [
           {
            "line": {
             "colorbar": {
              "outlinewidth": 0,
              "ticks": ""
             }
            },
            "type": "parcoords"
           }
          ],
          "pie": [
           {
            "automargin": true,
            "type": "pie"
           }
          ],
          "scatter": [
           {
            "fillpattern": {
             "fillmode": "overlay",
             "size": 10,
             "solidity": 0.2
            },
            "type": "scatter"
           }
          ],
          "scatter3d": [
           {
            "line": {
             "colorbar": {
              "outlinewidth": 0,
              "ticks": ""
             }
            },
            "marker": {
             "colorbar": {
              "outlinewidth": 0,
              "ticks": ""
             }
            },
            "type": "scatter3d"
           }
          ],
          "scattercarpet": [
           {
            "marker": {
             "colorbar": {
              "outlinewidth": 0,
              "ticks": ""
             }
            },
            "type": "scattercarpet"
           }
          ],
          "scattergeo": [
           {
            "marker": {
             "colorbar": {
              "outlinewidth": 0,
              "ticks": ""
             }
            },
            "type": "scattergeo"
           }
          ],
          "scattergl": [
           {
            "marker": {
             "colorbar": {
              "outlinewidth": 0,
              "ticks": ""
             }
            },
            "type": "scattergl"
           }
          ],
          "scattermap": [
           {
            "marker": {
             "colorbar": {
              "outlinewidth": 0,
              "ticks": ""
             }
            },
            "type": "scattermap"
           }
          ],
          "scattermapbox": [
           {
            "marker": {
             "colorbar": {
              "outlinewidth": 0,
              "ticks": ""
             }
            },
            "type": "scattermapbox"
           }
          ],
          "scatterpolar": [
           {
            "marker": {
             "colorbar": {
              "outlinewidth": 0,
              "ticks": ""
             }
            },
            "type": "scatterpolar"
           }
          ],
          "scatterpolargl": [
           {
            "marker": {
             "colorbar": {
              "outlinewidth": 0,
              "ticks": ""
             }
            },
            "type": "scatterpolargl"
           }
          ],
          "scatterternary": [
           {
            "marker": {
             "colorbar": {
              "outlinewidth": 0,
              "ticks": ""
             }
            },
            "type": "scatterternary"
           }
          ],
          "surface": [
           {
            "colorbar": {
             "outlinewidth": 0,
             "ticks": ""
            },
            "colorscale": [
             [
              0,
              "#0d0887"
             ],
             [
              0.1111111111111111,
              "#46039f"
             ],
             [
              0.2222222222222222,
              "#7201a8"
             ],
             [
              0.3333333333333333,
              "#9c179e"
             ],
             [
              0.4444444444444444,
              "#bd3786"
             ],
             [
              0.5555555555555556,
              "#d8576b"
             ],
             [
              0.6666666666666666,
              "#ed7953"
             ],
             [
              0.7777777777777778,
              "#fb9f3a"
             ],
             [
              0.8888888888888888,
              "#fdca26"
             ],
             [
              1,
              "#f0f921"
             ]
            ],
            "type": "surface"
           }
          ],
          "table": [
           {
            "cells": {
             "fill": {
              "color": "#EBF0F8"
             },
             "line": {
              "color": "white"
             }
            },
            "header": {
             "fill": {
              "color": "#C8D4E3"
             },
             "line": {
              "color": "white"
             }
            },
            "type": "table"
           }
          ]
         },
         "layout": {
          "annotationdefaults": {
           "arrowcolor": "#2a3f5f",
           "arrowhead": 0,
           "arrowwidth": 1
          },
          "autotypenumbers": "strict",
          "coloraxis": {
           "colorbar": {
            "outlinewidth": 0,
            "ticks": ""
           }
          },
          "colorscale": {
           "diverging": [
            [
             0,
             "#8e0152"
            ],
            [
             0.1,
             "#c51b7d"
            ],
            [
             0.2,
             "#de77ae"
            ],
            [
             0.3,
             "#f1b6da"
            ],
            [
             0.4,
             "#fde0ef"
            ],
            [
             0.5,
             "#f7f7f7"
            ],
            [
             0.6,
             "#e6f5d0"
            ],
            [
             0.7,
             "#b8e186"
            ],
            [
             0.8,
             "#7fbc41"
            ],
            [
             0.9,
             "#4d9221"
            ],
            [
             1,
             "#276419"
            ]
           ],
           "sequential": [
            [
             0,
             "#0d0887"
            ],
            [
             0.1111111111111111,
             "#46039f"
            ],
            [
             0.2222222222222222,
             "#7201a8"
            ],
            [
             0.3333333333333333,
             "#9c179e"
            ],
            [
             0.4444444444444444,
             "#bd3786"
            ],
            [
             0.5555555555555556,
             "#d8576b"
            ],
            [
             0.6666666666666666,
             "#ed7953"
            ],
            [
             0.7777777777777778,
             "#fb9f3a"
            ],
            [
             0.8888888888888888,
             "#fdca26"
            ],
            [
             1,
             "#f0f921"
            ]
           ],
           "sequentialminus": [
            [
             0,
             "#0d0887"
            ],
            [
             0.1111111111111111,
             "#46039f"
            ],
            [
             0.2222222222222222,
             "#7201a8"
            ],
            [
             0.3333333333333333,
             "#9c179e"
            ],
            [
             0.4444444444444444,
             "#bd3786"
            ],
            [
             0.5555555555555556,
             "#d8576b"
            ],
            [
             0.6666666666666666,
             "#ed7953"
            ],
            [
             0.7777777777777778,
             "#fb9f3a"
            ],
            [
             0.8888888888888888,
             "#fdca26"
            ],
            [
             1,
             "#f0f921"
            ]
           ]
          },
          "colorway": [
           "#636efa",
           "#EF553B",
           "#00cc96",
           "#ab63fa",
           "#FFA15A",
           "#19d3f3",
           "#FF6692",
           "#B6E880",
           "#FF97FF",
           "#FECB52"
          ],
          "font": {
           "color": "#2a3f5f"
          },
          "geo": {
           "bgcolor": "white",
           "lakecolor": "white",
           "landcolor": "#E5ECF6",
           "showlakes": true,
           "showland": true,
           "subunitcolor": "white"
          },
          "hoverlabel": {
           "align": "left"
          },
          "hovermode": "closest",
          "mapbox": {
           "style": "light"
          },
          "paper_bgcolor": "white",
          "plot_bgcolor": "#E5ECF6",
          "polar": {
           "angularaxis": {
            "gridcolor": "white",
            "linecolor": "white",
            "ticks": ""
           },
           "bgcolor": "#E5ECF6",
           "radialaxis": {
            "gridcolor": "white",
            "linecolor": "white",
            "ticks": ""
           }
          },
          "scene": {
           "xaxis": {
            "backgroundcolor": "#E5ECF6",
            "gridcolor": "white",
            "gridwidth": 2,
            "linecolor": "white",
            "showbackground": true,
            "ticks": "",
            "zerolinecolor": "white"
           },
           "yaxis": {
            "backgroundcolor": "#E5ECF6",
            "gridcolor": "white",
            "gridwidth": 2,
            "linecolor": "white",
            "showbackground": true,
            "ticks": "",
            "zerolinecolor": "white"
           },
           "zaxis": {
            "backgroundcolor": "#E5ECF6",
            "gridcolor": "white",
            "gridwidth": 2,
            "linecolor": "white",
            "showbackground": true,
            "ticks": "",
            "zerolinecolor": "white"
           }
          },
          "shapedefaults": {
           "line": {
            "color": "#2a3f5f"
           }
          },
          "ternary": {
           "aaxis": {
            "gridcolor": "white",
            "linecolor": "white",
            "ticks": ""
           },
           "baxis": {
            "gridcolor": "white",
            "linecolor": "white",
            "ticks": ""
           },
           "bgcolor": "#E5ECF6",
           "caxis": {
            "gridcolor": "white",
            "linecolor": "white",
            "ticks": ""
           }
          },
          "title": {
           "x": 0.05
          },
          "xaxis": {
           "automargin": true,
           "gridcolor": "white",
           "linecolor": "white",
           "ticks": "",
           "title": {
            "standoff": 15
           },
           "zerolinecolor": "white",
           "zerolinewidth": 2
          },
          "yaxis": {
           "automargin": true,
           "gridcolor": "white",
           "linecolor": "white",
           "ticks": "",
           "title": {
            "standoff": 15
           },
           "zerolinecolor": "white",
           "zerolinewidth": 2
          }
         }
        },
        "title": {
         "text": "fashion-mnist: lfd vs Depth"
        },
        "width": 2400,
        "xaxis": {
         "anchor": "y",
         "domain": [
          0,
          0.23125
         ]
        },
        "xaxis2": {
         "anchor": "y2",
         "domain": [
          0.25625000000000003,
          0.48750000000000004
         ]
        },
        "xaxis3": {
         "anchor": "y3",
         "domain": [
          0.5125000000000001,
          0.7437500000000001
         ]
        },
        "xaxis4": {
         "anchor": "y4",
         "domain": [
          0.76875,
          1
         ]
        },
        "xaxis5": {
         "anchor": "y5",
         "domain": [
          0,
          0.23125
         ]
        },
        "xaxis6": {
         "anchor": "y6",
         "domain": [
          0.25625000000000003,
          0.48750000000000004
         ]
        },
        "xaxis7": {
         "anchor": "y7",
         "domain": [
          0.5125000000000001,
          0.7437500000000001
         ]
        },
        "xaxis8": {
         "anchor": "y8",
         "domain": [
          0.76875,
          1
         ]
        },
        "yaxis": {
         "anchor": "x",
         "domain": [
          0.55,
          1
         ]
        },
        "yaxis2": {
         "anchor": "x2",
         "domain": [
          0.55,
          1
         ]
        },
        "yaxis3": {
         "anchor": "x3",
         "domain": [
          0.55,
          1
         ]
        },
        "yaxis4": {
         "anchor": "x4",
         "domain": [
          0.55,
          1
         ]
        },
        "yaxis5": {
         "anchor": "x5",
         "domain": [
          0,
          0.45
         ]
        },
        "yaxis6": {
         "anchor": "x6",
         "domain": [
          0,
          0.45
         ]
        },
        "yaxis7": {
         "anchor": "x7",
         "domain": [
          0,
          0.45
         ]
        },
        "yaxis8": {
         "anchor": "x8",
         "domain": [
          0,
          0.45
         ]
        }
       }
      }
     },
     "metadata": {},
     "output_type": "display_data"
    }
   ],
   "source": [
    "fig = plot_for_data(d, PlottableColumns.LFD)\n",
    "fig.show()"
   ]
  },
  {
   "cell_type": "code",
   "execution_count": null,
   "id": "72a4d1b9",
   "metadata": {},
   "outputs": [],
   "source": [
    "fig = plot_for_data(d, PlottableColumns.Radius)\n",
    "fig.show()"
   ]
  },
  {
   "cell_type": "code",
   "execution_count": null,
   "id": "1112c188",
   "metadata": {},
   "outputs": [],
   "source": [
    "fig = plot_for_data(d, PlottableColumns.Span)\n",
    "fig.show()"
   ]
  },
  {
   "cell_type": "code",
   "execution_count": null,
   "id": "613a409c",
   "metadata": {},
   "outputs": [],
   "source": [
    "fig = plot_for_data(d, PlottableColumns.NumChildren)\n",
    "fig.show()"
   ]
  },
  {
   "cell_type": "code",
   "execution_count": null,
   "id": "3bdbeb17",
   "metadata": {},
   "outputs": [],
   "source": []
  }
 ],
 "metadata": {
  "kernelspec": {
   "display_name": "clam",
   "language": "python",
   "name": "python3"
  },
  "language_info": {
   "codemirror_mode": {
    "name": "ipython",
    "version": 3
   },
   "file_extension": ".py",
   "mimetype": "text/x-python",
   "name": "python",
   "nbconvert_exporter": "python",
   "pygments_lexer": "ipython3",
   "version": "3.13.7"
  }
 },
 "nbformat": 4,
 "nbformat_minor": 5
}
